{
 "cells": [
  {
   "cell_type": "code",
   "execution_count": 10,
   "metadata": {},
   "outputs": [
    {
     "name": "stdout",
     "output_type": "stream",
     "text": [
      "Requirement already satisfied: jupyterlab in /opt/miniconda3/envs/ai-applications-in-industry/lib/python3.10/site-packages (from -r requirements.txt (line 1)) (4.3.6)\n",
      "Requirement already satisfied: pandas in /opt/miniconda3/envs/ai-applications-in-industry/lib/python3.10/site-packages (from -r requirements.txt (line 2)) (2.2.3)\n",
      "Requirement already satisfied: numpy in /opt/miniconda3/envs/ai-applications-in-industry/lib/python3.10/site-packages (from -r requirements.txt (line 3)) (2.0.2)\n",
      "Requirement already satisfied: scikit-learn in /opt/miniconda3/envs/ai-applications-in-industry/lib/python3.10/site-packages (from -r requirements.txt (line 4)) (1.6.1)\n",
      "Requirement already satisfied: xgboost in /opt/miniconda3/envs/ai-applications-in-industry/lib/python3.10/site-packages (from -r requirements.txt (line 5)) (3.0.0)\n",
      "Requirement already satisfied: plotly in /opt/miniconda3/envs/ai-applications-in-industry/lib/python3.10/site-packages (from -r requirements.txt (line 6)) (6.0.0)\n",
      "Requirement already satisfied: async-lru>=1.0.0 in /opt/miniconda3/envs/ai-applications-in-industry/lib/python3.10/site-packages (from jupyterlab->-r requirements.txt (line 1)) (2.0.5)\n",
      "Requirement already satisfied: httpx>=0.25.0 in /opt/miniconda3/envs/ai-applications-in-industry/lib/python3.10/site-packages (from jupyterlab->-r requirements.txt (line 1)) (0.28.1)\n",
      "Requirement already satisfied: ipykernel>=6.5.0 in /opt/miniconda3/envs/ai-applications-in-industry/lib/python3.10/site-packages (from jupyterlab->-r requirements.txt (line 1)) (6.29.5)\n",
      "Requirement already satisfied: jinja2>=3.0.3 in /opt/miniconda3/envs/ai-applications-in-industry/lib/python3.10/site-packages (from jupyterlab->-r requirements.txt (line 1)) (3.1.5)\n",
      "Requirement already satisfied: jupyter-core in /opt/miniconda3/envs/ai-applications-in-industry/lib/python3.10/site-packages (from jupyterlab->-r requirements.txt (line 1)) (5.7.2)\n",
      "Requirement already satisfied: jupyter-lsp>=2.0.0 in /opt/miniconda3/envs/ai-applications-in-industry/lib/python3.10/site-packages (from jupyterlab->-r requirements.txt (line 1)) (2.2.5)\n",
      "Requirement already satisfied: jupyter-server<3,>=2.4.0 in /opt/miniconda3/envs/ai-applications-in-industry/lib/python3.10/site-packages (from jupyterlab->-r requirements.txt (line 1)) (2.15.0)\n",
      "Requirement already satisfied: jupyterlab-server<3,>=2.27.1 in /opt/miniconda3/envs/ai-applications-in-industry/lib/python3.10/site-packages (from jupyterlab->-r requirements.txt (line 1)) (2.27.3)\n",
      "Requirement already satisfied: notebook-shim>=0.2 in /opt/miniconda3/envs/ai-applications-in-industry/lib/python3.10/site-packages (from jupyterlab->-r requirements.txt (line 1)) (0.2.4)\n",
      "Requirement already satisfied: packaging in /opt/miniconda3/envs/ai-applications-in-industry/lib/python3.10/site-packages (from jupyterlab->-r requirements.txt (line 1)) (24.2)\n",
      "Requirement already satisfied: setuptools>=40.8.0 in /opt/miniconda3/envs/ai-applications-in-industry/lib/python3.10/site-packages (from jupyterlab->-r requirements.txt (line 1)) (75.8.0)\n",
      "Requirement already satisfied: tomli>=1.2.2 in /opt/miniconda3/envs/ai-applications-in-industry/lib/python3.10/site-packages (from jupyterlab->-r requirements.txt (line 1)) (2.2.1)\n",
      "Requirement already satisfied: tornado>=6.2.0 in /opt/miniconda3/envs/ai-applications-in-industry/lib/python3.10/site-packages (from jupyterlab->-r requirements.txt (line 1)) (6.4.2)\n",
      "Requirement already satisfied: traitlets in /opt/miniconda3/envs/ai-applications-in-industry/lib/python3.10/site-packages (from jupyterlab->-r requirements.txt (line 1)) (5.14.3)\n",
      "Requirement already satisfied: python-dateutil>=2.8.2 in /opt/miniconda3/envs/ai-applications-in-industry/lib/python3.10/site-packages (from pandas->-r requirements.txt (line 2)) (2.9.0.post0)\n",
      "Requirement already satisfied: pytz>=2020.1 in /opt/miniconda3/envs/ai-applications-in-industry/lib/python3.10/site-packages (from pandas->-r requirements.txt (line 2)) (2025.1)\n",
      "Requirement already satisfied: tzdata>=2022.7 in /opt/miniconda3/envs/ai-applications-in-industry/lib/python3.10/site-packages (from pandas->-r requirements.txt (line 2)) (2025.1)\n",
      "Requirement already satisfied: scipy>=1.6.0 in /opt/miniconda3/envs/ai-applications-in-industry/lib/python3.10/site-packages (from scikit-learn->-r requirements.txt (line 4)) (1.15.2)\n",
      "Requirement already satisfied: joblib>=1.2.0 in /opt/miniconda3/envs/ai-applications-in-industry/lib/python3.10/site-packages (from scikit-learn->-r requirements.txt (line 4)) (1.4.2)\n",
      "Requirement already satisfied: threadpoolctl>=3.1.0 in /opt/miniconda3/envs/ai-applications-in-industry/lib/python3.10/site-packages (from scikit-learn->-r requirements.txt (line 4)) (3.5.0)\n",
      "Requirement already satisfied: narwhals>=1.15.1 in /opt/miniconda3/envs/ai-applications-in-industry/lib/python3.10/site-packages (from plotly->-r requirements.txt (line 6)) (1.29.0)\n",
      "Requirement already satisfied: typing_extensions>=4.0.0 in /opt/miniconda3/envs/ai-applications-in-industry/lib/python3.10/site-packages (from async-lru>=1.0.0->jupyterlab->-r requirements.txt (line 1)) (4.12.2)\n",
      "Requirement already satisfied: anyio in /opt/miniconda3/envs/ai-applications-in-industry/lib/python3.10/site-packages (from httpx>=0.25.0->jupyterlab->-r requirements.txt (line 1)) (4.9.0)\n",
      "Requirement already satisfied: certifi in /opt/miniconda3/envs/ai-applications-in-industry/lib/python3.10/site-packages (from httpx>=0.25.0->jupyterlab->-r requirements.txt (line 1)) (2025.1.31)\n",
      "Requirement already satisfied: httpcore==1.* in /opt/miniconda3/envs/ai-applications-in-industry/lib/python3.10/site-packages (from httpx>=0.25.0->jupyterlab->-r requirements.txt (line 1)) (1.0.7)\n",
      "Requirement already satisfied: idna in /opt/miniconda3/envs/ai-applications-in-industry/lib/python3.10/site-packages (from httpx>=0.25.0->jupyterlab->-r requirements.txt (line 1)) (3.10)\n",
      "Requirement already satisfied: h11<0.15,>=0.13 in /opt/miniconda3/envs/ai-applications-in-industry/lib/python3.10/site-packages (from httpcore==1.*->httpx>=0.25.0->jupyterlab->-r requirements.txt (line 1)) (0.14.0)\n",
      "Requirement already satisfied: appnope in /opt/miniconda3/envs/ai-applications-in-industry/lib/python3.10/site-packages (from ipykernel>=6.5.0->jupyterlab->-r requirements.txt (line 1)) (0.1.4)\n",
      "Requirement already satisfied: comm>=0.1.1 in /opt/miniconda3/envs/ai-applications-in-industry/lib/python3.10/site-packages (from ipykernel>=6.5.0->jupyterlab->-r requirements.txt (line 1)) (0.2.2)\n",
      "Requirement already satisfied: debugpy>=1.6.5 in /opt/miniconda3/envs/ai-applications-in-industry/lib/python3.10/site-packages (from ipykernel>=6.5.0->jupyterlab->-r requirements.txt (line 1)) (1.8.11)\n",
      "Requirement already satisfied: ipython>=7.23.1 in /opt/miniconda3/envs/ai-applications-in-industry/lib/python3.10/site-packages (from ipykernel>=6.5.0->jupyterlab->-r requirements.txt (line 1)) (8.32.0)\n",
      "Requirement already satisfied: jupyter-client>=6.1.12 in /opt/miniconda3/envs/ai-applications-in-industry/lib/python3.10/site-packages (from ipykernel>=6.5.0->jupyterlab->-r requirements.txt (line 1)) (8.6.3)\n",
      "Requirement already satisfied: matplotlib-inline>=0.1 in /opt/miniconda3/envs/ai-applications-in-industry/lib/python3.10/site-packages (from ipykernel>=6.5.0->jupyterlab->-r requirements.txt (line 1)) (0.1.7)\n",
      "Requirement already satisfied: nest-asyncio in /opt/miniconda3/envs/ai-applications-in-industry/lib/python3.10/site-packages (from ipykernel>=6.5.0->jupyterlab->-r requirements.txt (line 1)) (1.6.0)\n",
      "Requirement already satisfied: psutil in /opt/miniconda3/envs/ai-applications-in-industry/lib/python3.10/site-packages (from ipykernel>=6.5.0->jupyterlab->-r requirements.txt (line 1)) (5.9.0)\n",
      "Requirement already satisfied: pyzmq>=24 in /opt/miniconda3/envs/ai-applications-in-industry/lib/python3.10/site-packages (from ipykernel>=6.5.0->jupyterlab->-r requirements.txt (line 1)) (26.2.0)\n",
      "Requirement already satisfied: MarkupSafe>=2.0 in /opt/miniconda3/envs/ai-applications-in-industry/lib/python3.10/site-packages (from jinja2>=3.0.3->jupyterlab->-r requirements.txt (line 1)) (3.0.2)\n",
      "Requirement already satisfied: platformdirs>=2.5 in /opt/miniconda3/envs/ai-applications-in-industry/lib/python3.10/site-packages (from jupyter-core->jupyterlab->-r requirements.txt (line 1)) (4.3.6)\n",
      "Requirement already satisfied: argon2-cffi>=21.1 in /opt/miniconda3/envs/ai-applications-in-industry/lib/python3.10/site-packages (from jupyter-server<3,>=2.4.0->jupyterlab->-r requirements.txt (line 1)) (23.1.0)\n",
      "Requirement already satisfied: jupyter-events>=0.11.0 in /opt/miniconda3/envs/ai-applications-in-industry/lib/python3.10/site-packages (from jupyter-server<3,>=2.4.0->jupyterlab->-r requirements.txt (line 1)) (0.12.0)\n",
      "Requirement already satisfied: jupyter-server-terminals>=0.4.4 in /opt/miniconda3/envs/ai-applications-in-industry/lib/python3.10/site-packages (from jupyter-server<3,>=2.4.0->jupyterlab->-r requirements.txt (line 1)) (0.5.3)\n",
      "Requirement already satisfied: nbconvert>=6.4.4 in /opt/miniconda3/envs/ai-applications-in-industry/lib/python3.10/site-packages (from jupyter-server<3,>=2.4.0->jupyterlab->-r requirements.txt (line 1)) (7.16.6)\n",
      "Requirement already satisfied: nbformat>=5.3.0 in /opt/miniconda3/envs/ai-applications-in-industry/lib/python3.10/site-packages (from jupyter-server<3,>=2.4.0->jupyterlab->-r requirements.txt (line 1)) (5.10.4)\n",
      "Requirement already satisfied: overrides>=5.0 in /opt/miniconda3/envs/ai-applications-in-industry/lib/python3.10/site-packages (from jupyter-server<3,>=2.4.0->jupyterlab->-r requirements.txt (line 1)) (7.7.0)\n",
      "Requirement already satisfied: prometheus-client>=0.9 in /opt/miniconda3/envs/ai-applications-in-industry/lib/python3.10/site-packages (from jupyter-server<3,>=2.4.0->jupyterlab->-r requirements.txt (line 1)) (0.21.1)\n",
      "Requirement already satisfied: send2trash>=1.8.2 in /opt/miniconda3/envs/ai-applications-in-industry/lib/python3.10/site-packages (from jupyter-server<3,>=2.4.0->jupyterlab->-r requirements.txt (line 1)) (1.8.3)\n",
      "Requirement already satisfied: terminado>=0.8.3 in /opt/miniconda3/envs/ai-applications-in-industry/lib/python3.10/site-packages (from jupyter-server<3,>=2.4.0->jupyterlab->-r requirements.txt (line 1)) (0.18.1)\n",
      "Requirement already satisfied: websocket-client>=1.7 in /opt/miniconda3/envs/ai-applications-in-industry/lib/python3.10/site-packages (from jupyter-server<3,>=2.4.0->jupyterlab->-r requirements.txt (line 1)) (1.8.0)\n",
      "Requirement already satisfied: babel>=2.10 in /opt/miniconda3/envs/ai-applications-in-industry/lib/python3.10/site-packages (from jupyterlab-server<3,>=2.27.1->jupyterlab->-r requirements.txt (line 1)) (2.17.0)\n",
      "Requirement already satisfied: json5>=0.9.0 in /opt/miniconda3/envs/ai-applications-in-industry/lib/python3.10/site-packages (from jupyterlab-server<3,>=2.27.1->jupyterlab->-r requirements.txt (line 1)) (0.10.0)\n",
      "Requirement already satisfied: jsonschema>=4.18.0 in /opt/miniconda3/envs/ai-applications-in-industry/lib/python3.10/site-packages (from jupyterlab-server<3,>=2.27.1->jupyterlab->-r requirements.txt (line 1)) (4.23.0)\n",
      "Requirement already satisfied: requests>=2.31 in /opt/miniconda3/envs/ai-applications-in-industry/lib/python3.10/site-packages (from jupyterlab-server<3,>=2.27.1->jupyterlab->-r requirements.txt (line 1)) (2.32.3)\n",
      "Requirement already satisfied: six>=1.5 in /opt/miniconda3/envs/ai-applications-in-industry/lib/python3.10/site-packages (from python-dateutil>=2.8.2->pandas->-r requirements.txt (line 2)) (1.17.0)\n",
      "Requirement already satisfied: exceptiongroup>=1.0.2 in /opt/miniconda3/envs/ai-applications-in-industry/lib/python3.10/site-packages (from anyio->httpx>=0.25.0->jupyterlab->-r requirements.txt (line 1)) (1.2.2)\n",
      "Requirement already satisfied: sniffio>=1.1 in /opt/miniconda3/envs/ai-applications-in-industry/lib/python3.10/site-packages (from anyio->httpx>=0.25.0->jupyterlab->-r requirements.txt (line 1)) (1.3.1)\n",
      "Requirement already satisfied: argon2-cffi-bindings in /opt/miniconda3/envs/ai-applications-in-industry/lib/python3.10/site-packages (from argon2-cffi>=21.1->jupyter-server<3,>=2.4.0->jupyterlab->-r requirements.txt (line 1)) (21.2.0)\n",
      "Requirement already satisfied: decorator in /opt/miniconda3/envs/ai-applications-in-industry/lib/python3.10/site-packages (from ipython>=7.23.1->ipykernel>=6.5.0->jupyterlab->-r requirements.txt (line 1)) (5.2.1)\n",
      "Requirement already satisfied: jedi>=0.16 in /opt/miniconda3/envs/ai-applications-in-industry/lib/python3.10/site-packages (from ipython>=7.23.1->ipykernel>=6.5.0->jupyterlab->-r requirements.txt (line 1)) (0.19.2)\n",
      "Requirement already satisfied: pexpect>4.3 in /opt/miniconda3/envs/ai-applications-in-industry/lib/python3.10/site-packages (from ipython>=7.23.1->ipykernel>=6.5.0->jupyterlab->-r requirements.txt (line 1)) (4.9.0)\n",
      "Requirement already satisfied: prompt_toolkit<3.1.0,>=3.0.41 in /opt/miniconda3/envs/ai-applications-in-industry/lib/python3.10/site-packages (from ipython>=7.23.1->ipykernel>=6.5.0->jupyterlab->-r requirements.txt (line 1)) (3.0.50)\n",
      "Requirement already satisfied: pygments>=2.4.0 in /opt/miniconda3/envs/ai-applications-in-industry/lib/python3.10/site-packages (from ipython>=7.23.1->ipykernel>=6.5.0->jupyterlab->-r requirements.txt (line 1)) (2.19.1)\n",
      "Requirement already satisfied: stack_data in /opt/miniconda3/envs/ai-applications-in-industry/lib/python3.10/site-packages (from ipython>=7.23.1->ipykernel>=6.5.0->jupyterlab->-r requirements.txt (line 1)) (0.6.3)\n",
      "Requirement already satisfied: attrs>=22.2.0 in /opt/miniconda3/envs/ai-applications-in-industry/lib/python3.10/site-packages (from jsonschema>=4.18.0->jupyterlab-server<3,>=2.27.1->jupyterlab->-r requirements.txt (line 1)) (25.1.0)\n",
      "Requirement already satisfied: jsonschema-specifications>=2023.03.6 in /opt/miniconda3/envs/ai-applications-in-industry/lib/python3.10/site-packages (from jsonschema>=4.18.0->jupyterlab-server<3,>=2.27.1->jupyterlab->-r requirements.txt (line 1)) (2024.10.1)\n",
      "Requirement already satisfied: referencing>=0.28.4 in /opt/miniconda3/envs/ai-applications-in-industry/lib/python3.10/site-packages (from jsonschema>=4.18.0->jupyterlab-server<3,>=2.27.1->jupyterlab->-r requirements.txt (line 1)) (0.36.2)\n",
      "Requirement already satisfied: rpds-py>=0.7.1 in /opt/miniconda3/envs/ai-applications-in-industry/lib/python3.10/site-packages (from jsonschema>=4.18.0->jupyterlab-server<3,>=2.27.1->jupyterlab->-r requirements.txt (line 1)) (0.23.1)\n",
      "Requirement already satisfied: python-json-logger>=2.0.4 in /opt/miniconda3/envs/ai-applications-in-industry/lib/python3.10/site-packages (from jupyter-events>=0.11.0->jupyter-server<3,>=2.4.0->jupyterlab->-r requirements.txt (line 1)) (3.3.0)\n",
      "Requirement already satisfied: pyyaml>=5.3 in /opt/miniconda3/envs/ai-applications-in-industry/lib/python3.10/site-packages (from jupyter-events>=0.11.0->jupyter-server<3,>=2.4.0->jupyterlab->-r requirements.txt (line 1)) (6.0.2)\n",
      "Requirement already satisfied: rfc3339-validator in /opt/miniconda3/envs/ai-applications-in-industry/lib/python3.10/site-packages (from jupyter-events>=0.11.0->jupyter-server<3,>=2.4.0->jupyterlab->-r requirements.txt (line 1)) (0.1.4)\n",
      "Requirement already satisfied: rfc3986-validator>=0.1.1 in /opt/miniconda3/envs/ai-applications-in-industry/lib/python3.10/site-packages (from jupyter-events>=0.11.0->jupyter-server<3,>=2.4.0->jupyterlab->-r requirements.txt (line 1)) (0.1.1)\n",
      "Requirement already satisfied: beautifulsoup4 in /opt/miniconda3/envs/ai-applications-in-industry/lib/python3.10/site-packages (from nbconvert>=6.4.4->jupyter-server<3,>=2.4.0->jupyterlab->-r requirements.txt (line 1)) (4.13.3)\n",
      "Requirement already satisfied: bleach!=5.0.0 in /opt/miniconda3/envs/ai-applications-in-industry/lib/python3.10/site-packages (from bleach[css]!=5.0.0->nbconvert>=6.4.4->jupyter-server<3,>=2.4.0->jupyterlab->-r requirements.txt (line 1)) (6.2.0)\n",
      "Requirement already satisfied: defusedxml in /opt/miniconda3/envs/ai-applications-in-industry/lib/python3.10/site-packages (from nbconvert>=6.4.4->jupyter-server<3,>=2.4.0->jupyterlab->-r requirements.txt (line 1)) (0.7.1)\n",
      "Requirement already satisfied: jupyterlab-pygments in /opt/miniconda3/envs/ai-applications-in-industry/lib/python3.10/site-packages (from nbconvert>=6.4.4->jupyter-server<3,>=2.4.0->jupyterlab->-r requirements.txt (line 1)) (0.3.0)\n",
      "Requirement already satisfied: mistune<4,>=2.0.3 in /opt/miniconda3/envs/ai-applications-in-industry/lib/python3.10/site-packages (from nbconvert>=6.4.4->jupyter-server<3,>=2.4.0->jupyterlab->-r requirements.txt (line 1)) (3.1.3)\n",
      "Requirement already satisfied: nbclient>=0.5.0 in /opt/miniconda3/envs/ai-applications-in-industry/lib/python3.10/site-packages (from nbconvert>=6.4.4->jupyter-server<3,>=2.4.0->jupyterlab->-r requirements.txt (line 1)) (0.10.2)\n",
      "Requirement already satisfied: pandocfilters>=1.4.1 in /opt/miniconda3/envs/ai-applications-in-industry/lib/python3.10/site-packages (from nbconvert>=6.4.4->jupyter-server<3,>=2.4.0->jupyterlab->-r requirements.txt (line 1)) (1.5.1)\n",
      "Requirement already satisfied: fastjsonschema>=2.15 in /opt/miniconda3/envs/ai-applications-in-industry/lib/python3.10/site-packages (from nbformat>=5.3.0->jupyter-server<3,>=2.4.0->jupyterlab->-r requirements.txt (line 1)) (2.21.1)\n",
      "Requirement already satisfied: charset-normalizer<4,>=2 in /opt/miniconda3/envs/ai-applications-in-industry/lib/python3.10/site-packages (from requests>=2.31->jupyterlab-server<3,>=2.27.1->jupyterlab->-r requirements.txt (line 1)) (3.4.1)\n",
      "Requirement already satisfied: urllib3<3,>=1.21.1 in /opt/miniconda3/envs/ai-applications-in-industry/lib/python3.10/site-packages (from requests>=2.31->jupyterlab-server<3,>=2.27.1->jupyterlab->-r requirements.txt (line 1)) (2.3.0)\n",
      "Requirement already satisfied: ptyprocess in /opt/miniconda3/envs/ai-applications-in-industry/lib/python3.10/site-packages (from terminado>=0.8.3->jupyter-server<3,>=2.4.0->jupyterlab->-r requirements.txt (line 1)) (0.7.0)\n",
      "Requirement already satisfied: webencodings in /opt/miniconda3/envs/ai-applications-in-industry/lib/python3.10/site-packages (from bleach!=5.0.0->bleach[css]!=5.0.0->nbconvert>=6.4.4->jupyter-server<3,>=2.4.0->jupyterlab->-r requirements.txt (line 1)) (0.5.1)\n",
      "Requirement already satisfied: tinycss2<1.5,>=1.1.0 in /opt/miniconda3/envs/ai-applications-in-industry/lib/python3.10/site-packages (from bleach[css]!=5.0.0->nbconvert>=6.4.4->jupyter-server<3,>=2.4.0->jupyterlab->-r requirements.txt (line 1)) (1.4.0)\n",
      "Requirement already satisfied: parso<0.9.0,>=0.8.4 in /opt/miniconda3/envs/ai-applications-in-industry/lib/python3.10/site-packages (from jedi>=0.16->ipython>=7.23.1->ipykernel>=6.5.0->jupyterlab->-r requirements.txt (line 1)) (0.8.4)\n",
      "Requirement already satisfied: fqdn in /opt/miniconda3/envs/ai-applications-in-industry/lib/python3.10/site-packages (from jsonschema[format-nongpl]>=4.18.0->jupyter-events>=0.11.0->jupyter-server<3,>=2.4.0->jupyterlab->-r requirements.txt (line 1)) (1.5.1)\n",
      "Requirement already satisfied: isoduration in /opt/miniconda3/envs/ai-applications-in-industry/lib/python3.10/site-packages (from jsonschema[format-nongpl]>=4.18.0->jupyter-events>=0.11.0->jupyter-server<3,>=2.4.0->jupyterlab->-r requirements.txt (line 1)) (20.11.0)\n",
      "Requirement already satisfied: jsonpointer>1.13 in /opt/miniconda3/envs/ai-applications-in-industry/lib/python3.10/site-packages (from jsonschema[format-nongpl]>=4.18.0->jupyter-events>=0.11.0->jupyter-server<3,>=2.4.0->jupyterlab->-r requirements.txt (line 1)) (3.0.0)\n",
      "Requirement already satisfied: uri-template in /opt/miniconda3/envs/ai-applications-in-industry/lib/python3.10/site-packages (from jsonschema[format-nongpl]>=4.18.0->jupyter-events>=0.11.0->jupyter-server<3,>=2.4.0->jupyterlab->-r requirements.txt (line 1)) (1.3.0)\n",
      "Requirement already satisfied: webcolors>=24.6.0 in /opt/miniconda3/envs/ai-applications-in-industry/lib/python3.10/site-packages (from jsonschema[format-nongpl]>=4.18.0->jupyter-events>=0.11.0->jupyter-server<3,>=2.4.0->jupyterlab->-r requirements.txt (line 1)) (24.11.1)\n",
      "Requirement already satisfied: wcwidth in /opt/miniconda3/envs/ai-applications-in-industry/lib/python3.10/site-packages (from prompt_toolkit<3.1.0,>=3.0.41->ipython>=7.23.1->ipykernel>=6.5.0->jupyterlab->-r requirements.txt (line 1)) (0.2.13)\n",
      "Requirement already satisfied: cffi>=1.0.1 in /opt/miniconda3/envs/ai-applications-in-industry/lib/python3.10/site-packages (from argon2-cffi-bindings->argon2-cffi>=21.1->jupyter-server<3,>=2.4.0->jupyterlab->-r requirements.txt (line 1)) (1.17.1)\n",
      "Requirement already satisfied: soupsieve>1.2 in /opt/miniconda3/envs/ai-applications-in-industry/lib/python3.10/site-packages (from beautifulsoup4->nbconvert>=6.4.4->jupyter-server<3,>=2.4.0->jupyterlab->-r requirements.txt (line 1)) (2.6)\n",
      "Requirement already satisfied: executing>=1.2.0 in /opt/miniconda3/envs/ai-applications-in-industry/lib/python3.10/site-packages (from stack_data->ipython>=7.23.1->ipykernel>=6.5.0->jupyterlab->-r requirements.txt (line 1)) (2.1.0)\n",
      "Requirement already satisfied: asttokens>=2.1.0 in /opt/miniconda3/envs/ai-applications-in-industry/lib/python3.10/site-packages (from stack_data->ipython>=7.23.1->ipykernel>=6.5.0->jupyterlab->-r requirements.txt (line 1)) (3.0.0)\n",
      "Requirement already satisfied: pure_eval in /opt/miniconda3/envs/ai-applications-in-industry/lib/python3.10/site-packages (from stack_data->ipython>=7.23.1->ipykernel>=6.5.0->jupyterlab->-r requirements.txt (line 1)) (0.2.3)\n",
      "Requirement already satisfied: pycparser in /opt/miniconda3/envs/ai-applications-in-industry/lib/python3.10/site-packages (from cffi>=1.0.1->argon2-cffi-bindings->argon2-cffi>=21.1->jupyter-server<3,>=2.4.0->jupyterlab->-r requirements.txt (line 1)) (2.22)\n",
      "Requirement already satisfied: arrow>=0.15.0 in /opt/miniconda3/envs/ai-applications-in-industry/lib/python3.10/site-packages (from isoduration->jsonschema[format-nongpl]>=4.18.0->jupyter-events>=0.11.0->jupyter-server<3,>=2.4.0->jupyterlab->-r requirements.txt (line 1)) (1.3.0)\n",
      "Requirement already satisfied: types-python-dateutil>=2.8.10 in /opt/miniconda3/envs/ai-applications-in-industry/lib/python3.10/site-packages (from arrow>=0.15.0->isoduration->jsonschema[format-nongpl]>=4.18.0->jupyter-events>=0.11.0->jupyter-server<3,>=2.4.0->jupyterlab->-r requirements.txt (line 1)) (2.9.0.20241206)\n",
      "CPU times: user 7.9 ms, sys: 14.8 ms, total: 22.7 ms\n",
      "Wall time: 1.01 s\n"
     ]
    }
   ],
   "source": [
    "%%time\n",
    "\n",
    "!pip install -r requirements.txt"
   ]
  },
  {
   "cell_type": "markdown",
   "metadata": {},
   "source": [
    "### Data Pipeline\n",
    "Load data from `data/PJME_hourly` and engineer features to enrich the temporal context.\n",
    "\n",
    "**Note: Lag features and rolling features can be enabled / disabled to provide more / less contextual information.**"
   ]
  },
  {
   "cell_type": "code",
   "execution_count": 11,
   "metadata": {},
   "outputs": [
    {
     "name": "stdout",
     "output_type": "stream",
     "text": [
      "\n",
      "train: (101732, 10)\n",
      "              Datetime  PJME_MW  hour  dayofweek  month  day  year  \\\n",
      "24 2002-01-02 01:00:00  28121.0     1          2      1    2  2002   \n",
      "25 2002-01-02 02:00:00  27437.0     2          2      1    2  2002   \n",
      "\n",
      "    is_weekend  rolling_mean_24  rolling_std_24  \n",
      "24           0     31017.500000     2423.666231  \n",
      "25           0     30922.833333     2492.512817  \n",
      "\n",
      "val: (21781, 10)\n",
      "                  Datetime  PJME_MW  hour  dayofweek  month  day  year  \\\n",
      "101780 2013-08-12 21:00:00  42567.0    21          0      8   12  2013   \n",
      "101781 2013-08-12 22:00:00  40735.0    22          0      8   12  2013   \n",
      "\n",
      "        is_weekend  rolling_mean_24  rolling_std_24  \n",
      "101780           0     36604.208333     6865.057389  \n",
      "101781           0     36783.458333     6965.732334  \n",
      "\n",
      "test: (21781, 10)\n",
      "                  Datetime  PJME_MW  hour  dayofweek  month  day  year  \\\n",
      "123585 2016-02-07 11:00:00  30911.0    11          6      2    7  2016   \n",
      "123586 2016-02-07 12:00:00  30504.0    12          6      2    7  2016   \n",
      "\n",
      "        is_weekend  rolling_mean_24  rolling_std_24  \n",
      "123585           1     30452.958333     1822.581363  \n",
      "123586           1     30400.375000     1788.688658  \n",
      "CPU times: user 89.1 ms, sys: 18.8 ms, total: 108 ms\n",
      "Wall time: 111 ms\n"
     ]
    }
   ],
   "source": [
    "%%time\n",
    "\n",
    "from utils.data_utils import (\n",
    "    load_and_split_data,\n",
    "    add_time_features,\n",
    "    add_lag_features,\n",
    "    add_rolling_features,\n",
    ")\n",
    "\n",
    "train, val, test = load_and_split_data(path=\"data/PJME_hourly.csv\")\n",
    "dfs = {\"train\": train, \"val\": val, \"test\": test}\n",
    "\n",
    "for name, df in dfs.items():\n",
    "    dfs[name] = (\n",
    "        df.pipe(add_time_features)\n",
    "        # .pipe(add_lag_features)  # Uncomment to add lag features\n",
    "        .pipe(add_rolling_features)  # Uncomment to add rolling features\n",
    "        .pipe(lambda x: x.dropna())\n",
    "    )\n",
    "    print(f\"\\n{name}: {dfs[name].shape}\")\n",
    "    print(dfs[name].head(2))\n",
    "\n",
    "train, val, test = dfs.values()"
   ]
  },
  {
   "cell_type": "markdown",
   "metadata": {},
   "source": [
    "### XGBoost\n",
    "XGBoost is a strong baseline for time series forecasting tasks, having demonstrated competitive performance in various studies. In this experiment, it serves as a benchmark to evaluate the effectiveness of selected deep learning models in forecasting energy consumption."
   ]
  },
  {
   "cell_type": "code",
   "execution_count": 12,
   "metadata": {},
   "outputs": [
    {
     "name": "stdout",
     "output_type": "stream",
     "text": [
      "[0]\ttrain-rmse:6335.73867\teval-rmse:6095.49377\n",
      "[250]\ttrain-rmse:1117.30170\teval-rmse:1377.35045\n",
      "[500]\ttrain-rmse:984.24516\teval-rmse:1333.09550\n",
      "[750]\ttrain-rmse:904.82500\teval-rmse:1331.21435\n",
      "[1000]\ttrain-rmse:846.67837\teval-rmse:1331.46384\n",
      "[1250]\ttrain-rmse:801.20101\teval-rmse:1333.90937\n",
      "[1500]\ttrain-rmse:760.17604\teval-rmse:1343.52932\n",
      "[1750]\ttrain-rmse:726.48535\teval-rmse:1348.01226\n",
      "[2000]\ttrain-rmse:695.19607\teval-rmse:1357.10617\n",
      "[2250]\ttrain-rmse:668.19813\teval-rmse:1363.46727\n",
      "[2500]\ttrain-rmse:643.41388\teval-rmse:1369.88500\n",
      "[2750]\ttrain-rmse:621.06849\teval-rmse:1377.56376\n",
      "[3000]\ttrain-rmse:600.66287\teval-rmse:1384.05724\n",
      "[3250]\ttrain-rmse:582.01856\teval-rmse:1389.38264\n",
      "[3500]\ttrain-rmse:564.26083\teval-rmse:1396.50349\n",
      "[3750]\ttrain-rmse:547.65349\teval-rmse:1401.24610\n",
      "[4000]\ttrain-rmse:532.08689\teval-rmse:1408.21971\n",
      "[4250]\ttrain-rmse:517.36989\teval-rmse:1414.01770\n",
      "[4500]\ttrain-rmse:503.48619\teval-rmse:1418.63173\n",
      "[4750]\ttrain-rmse:490.65735\teval-rmse:1422.93649\n",
      "[4999]\ttrain-rmse:478.69310\teval-rmse:1426.76520\n",
      "[XGBoost] Test MAE: 1148.90\n",
      "[XGBoost] Test RMSE: 1581.88\n"
     ]
    },
    {
     "data": {
      "application/vnd.plotly.v1+json": {
       "config": {
        "plotlyServerURL": "https://plot.ly"
       },
       "data": [
        {
         "line": {
          "color": "deepskyblue",
          "width": 2
         },
         "mode": "lines",
         "name": "Actual",
         "opacity": 0.8,
         "type": "scatter",
         "x": [
          0,
          1,
          2,
          3,
          4,
          5,
          6,
          7,
          8,
          9,
          10,
          11,
          12,
          13,
          14,
          15,
          16,
          17,
          18,
          19,
          20,
          21,
          22,
          23,
          24,
          25,
          26,
          27,
          28,
          29,
          30,
          31,
          32,
          33,
          34,
          35,
          36,
          37,
          38,
          39,
          40,
          41,
          42,
          43,
          44,
          45,
          46,
          47,
          48,
          49,
          50,
          51,
          52,
          53,
          54,
          55,
          56,
          57,
          58,
          59,
          60,
          61,
          62,
          63,
          64,
          65,
          66,
          67,
          68,
          69,
          70,
          71,
          72,
          73,
          74,
          75,
          76,
          77,
          78,
          79,
          80,
          81,
          82,
          83,
          84,
          85,
          86,
          87,
          88,
          89,
          90,
          91,
          92,
          93,
          94,
          95,
          96,
          97,
          98,
          99,
          100,
          101,
          102,
          103,
          104,
          105,
          106,
          107,
          108,
          109,
          110,
          111,
          112,
          113,
          114,
          115,
          116,
          117,
          118,
          119,
          120,
          121,
          122,
          123,
          124,
          125,
          126,
          127,
          128,
          129,
          130,
          131,
          132,
          133,
          134,
          135,
          136,
          137,
          138,
          139,
          140,
          141,
          142,
          143,
          144,
          145,
          146,
          147,
          148,
          149,
          150,
          151,
          152,
          153,
          154,
          155,
          156,
          157,
          158,
          159,
          160,
          161,
          162,
          163,
          164,
          165,
          166,
          167,
          168,
          169,
          170,
          171,
          172,
          173,
          174,
          175,
          176,
          177,
          178,
          179,
          180,
          181,
          182,
          183,
          184,
          185,
          186,
          187,
          188,
          189,
          190,
          191,
          192,
          193,
          194,
          195,
          196,
          197,
          198,
          199,
          200,
          201,
          202,
          203,
          204,
          205,
          206,
          207,
          208,
          209,
          210,
          211,
          212,
          213,
          214,
          215,
          216,
          217,
          218,
          219,
          220,
          221,
          222,
          223,
          224,
          225,
          226,
          227,
          228,
          229,
          230,
          231,
          232,
          233,
          234,
          235,
          236,
          237,
          238,
          239,
          240,
          241,
          242,
          243,
          244,
          245,
          246,
          247,
          248,
          249,
          250,
          251,
          252,
          253,
          254,
          255,
          256,
          257,
          258,
          259,
          260,
          261,
          262,
          263,
          264,
          265,
          266,
          267,
          268,
          269,
          270,
          271,
          272,
          273,
          274,
          275,
          276,
          277,
          278,
          279,
          280,
          281,
          282,
          283,
          284,
          285,
          286,
          287,
          288,
          289,
          290,
          291,
          292,
          293,
          294,
          295,
          296,
          297,
          298,
          299,
          300,
          301,
          302,
          303,
          304,
          305,
          306,
          307,
          308,
          309,
          310,
          311,
          312,
          313,
          314,
          315,
          316,
          317,
          318,
          319,
          320,
          321,
          322,
          323,
          324,
          325,
          326,
          327,
          328,
          329,
          330,
          331,
          332,
          333,
          334,
          335,
          336,
          337,
          338,
          339,
          340,
          341,
          342,
          343,
          344,
          345,
          346,
          347,
          348,
          349,
          350,
          351,
          352,
          353,
          354,
          355,
          356,
          357,
          358,
          359,
          360,
          361,
          362,
          363,
          364,
          365,
          366,
          367,
          368,
          369,
          370,
          371,
          372,
          373,
          374,
          375,
          376,
          377,
          378,
          379,
          380,
          381,
          382,
          383,
          384,
          385,
          386,
          387,
          388,
          389,
          390,
          391,
          392,
          393,
          394,
          395,
          396,
          397,
          398,
          399,
          400,
          401,
          402,
          403,
          404,
          405,
          406,
          407,
          408,
          409,
          410,
          411,
          412,
          413,
          414,
          415,
          416,
          417,
          418,
          419,
          420,
          421,
          422,
          423,
          424,
          425,
          426,
          427,
          428,
          429,
          430,
          431,
          432,
          433,
          434,
          435,
          436,
          437,
          438,
          439,
          440,
          441,
          442,
          443,
          444,
          445,
          446,
          447,
          448,
          449,
          450,
          451,
          452,
          453,
          454,
          455,
          456,
          457,
          458,
          459,
          460,
          461,
          462,
          463,
          464,
          465,
          466,
          467,
          468,
          469,
          470,
          471,
          472,
          473,
          474,
          475,
          476,
          477,
          478,
          479,
          480,
          481,
          482,
          483,
          484,
          485,
          486,
          487,
          488,
          489,
          490,
          491,
          492,
          493,
          494,
          495,
          496,
          497,
          498,
          499
         ],
         "y": {
          "bdata": "AAAAAMAv3kAAAAAAAMrdQAAAAAAAY91AAAAAAIAQ3UAAAAAAgOjcQAAAAACAMt1AAAAAAMAj3kAAAAAAYAfgQAAAAABAUeBAAAAAAIDA30AAAAAAgEPfQAAAAABAmd5AAAAAAIBj3UAAAAAAQAXcQAAAAAAAidpAAAAAAMDp2UAAAAAAgLzZQAAAAAAA9dlAAAAAAIDT2kAAAAAAAAzdQAAAAACgUeBAAAAAAIA84UAAAAAAgCfhQAAAAACA4eBAAAAAAMCc4EAAAAAAgEDgQAAAAAAA999AAAAAAACy30AAAAAAQJXfQAAAAABA899AAAAAAACF4EAAAAAAYH/hQAAAAACA8uFAAAAAAIC94UAAAAAA4FXhQAAAAADAleBAAAAAAEAD30AAAAAAAA7dQAAAAACAsNtAAAAAAMAU20AAAAAAAN/aQAAAAADA99pAAAAAAEDa20AAAAAAAA3eQAAAAACgv+BAAAAAACCv4UAAAAAAAMzhQAAAAABAxuFAAAAAAIC44UAAAAAAgJjhQAAAAAAgcOFAAAAAAMBZ4UAAAAAAoDXhQAAAAAAALeFAAAAAAGCP4UAAAAAAQHniQAAAAABA5+JAAAAAAEC04kAAAAAAgDriQAAAAADgXuFAAAAAAMAr4EAAAAAAAELeQAAAAADA2txAAAAAAEA83EAAAAAAgA/cQAAAAACAS9xAAAAAAIAm3UAAAAAAwFjfQAAAAABgVOFAAAAAAGAm4kAAAAAA4EDiQAAAAABgBeJAAAAAAECx4UAAAAAAoD3hQAAAAADgAOFAAAAAAID24EAAAAAAoNvgQAAAAACACuFAAAAAAMCO4UAAAAAAoKfiQAAAAADAWuNAAAAAAKA840AAAAAAIPLiQAAAAADATeJAAAAAAAAw4UAAAAAAQEPgQAAAAADASt9AAAAAAMDm3kAAAAAAgNreQAAAAACAJd9AAAAAAEAh4EAAAAAA4F/hQAAAAACgM+NAAAAAACDl40AAAAAAoIbjQAAAAABAMeNAAAAAAOAf40AAAAAAAPDiQAAAAADgwuJAAAAAAMCm4kAAAAAAoIPiQAAAAAAAn+JAAAAAACAp40AAAAAAIEzkQAAAAACgIeVAAAAAAGAC5UAAAAAAYLHkQAAAAADg/eNAAAAAAIDa4kAAAAAAQOPhQAAAAABAKuFAAAAAAGDm4EAAAAAAANXgQAAAAADA7+BAAAAAACBk4UAAAAAAwIjiQAAAAAAgKuRAAAAAAKC95EAAAAAA4EHkQAAAAABgmeNAAAAAAGAg40AAAAAAYLXiQAAAAABAXeJAAAAAAKBE4kAAAAAAAEfiQAAAAAAgb+JAAAAAAIDk4kAAAAAAYKvjQAAAAACgEuRAAAAAAGDG40AAAAAA4HDjQAAAAAAAy+JAAAAAAODf4UAAAAAAYADhQAAAAADgWOBAAAAAAGAH4EAAAAAAgNjfQAAAAABA5d9AAAAAAOA14EAAAAAA4LTgQAAAAAAgbuFAAAAAAMD24UAAAAAAwGPiQAAAAACAxeJAAAAAAODR4kAAAAAAALriQAAAAACgkOJAAAAAAOB34kAAAAAAIH3iQAAAAAAgvOJAAAAAAABf40AAAAAAYH7kQAAAAACgX+VAAAAAAOBJ5UAAAAAAQAvlQAAAAAAAm+RAAAAAAGDg40AAAAAA4DXjQAAAAAAgo+JAAAAAAABk4kAAAAAAQEPiQAAAAAAgS+JAAAAAACBy4kAAAAAA4MniQAAAAACAU+NAAAAAAMCb40AAAAAAIKjjQAAAAADgeeNAAAAAACAn40AAAAAAgMTiQAAAAAAgUeJAAAAAAEDj4UAAAAAAAJLhQAAAAABAmeFAAAAAAAA34kAAAAAAoIvjQAAAAACAgeRAAAAAAKB45EAAAAAAwDTkQAAAAADAoeNAAAAAAGDH4kAAAAAAoPbhQAAAAAAgUeFAAAAAAEAQ4UAAAAAAoPvgQAAAAADgDeFAAAAAAIBn4UAAAAAAYCDiQAAAAAAgLONAAAAAACC440AAAAAAAB7kQAAAAADgd+RAAAAAAICs5EAAAAAAIKfkQAAAAAAAg+RAAAAAAABk5EAAAAAAAC3kQAAAAACAAORAAAAAAKAk5EAAAAAAYMnkQAAAAAAg/uRAAAAAAACH5EAAAAAAAM/jQAAAAAAgsuJAAAAAAGBu4UAAAAAAoEvgQAAAAABA/N5AAAAAAAAe3kAAAAAAQJHdQAAAAABAft1AAAAAAMDv3UAAAAAAAFzfQAAAAACgveBAAAAAAMA84UAAAAAAQGHhQAAAAAAAceFAAAAAAAB84UAAAAAAAGvhQAAAAAAgQeFAAAAAAEDx4EAAAAAAoH7gQAAAAACgMOBAAAAAAGBc4EAAAAAAgCbhQAAAAAAg6eFAAAAAAODK4UAAAAAAoHHhQAAAAADAtuBAAAAAAAA730AAAAAAAC7dQAAAAADAvdtAAAAAAIAR20AAAAAAAM/aQAAAAABADNtAAAAAAAD520AAAAAAADzeQAAAAADg3OBAAAAAAECK4UAAAAAAYGfhQAAAAABAOeFAAAAAAAAf4UAAAAAAQObgQAAAAAAgvuBAAAAAAOCl4EAAAAAA4JHgQAAAAADgmuBAAAAAAKD34EAAAAAAgNDhQAAAAABAZeJAAAAAAGBG4kAAAAAAoOrhQAAAAADgNuFAAAAAAKAl4EAAAAAAQF7eQAAAAABAH91AAAAAAIB83EAAAAAAwFvcQAAAAABAkdxAAAAAAECa3UAAAAAAQOzfQAAAAABgy+FAAAAAAIBm4kAAAAAAgCLiQAAAAADgrOFAAAAAAKBA4UAAAAAAIObgQAAAAAAgneBAAAAAAGBd4EAAAAAAgDPgQAAAAABAP+BAAAAAAMC94EAAAAAAoNLhQAAAAABg7eJAAAAAACD/4kAAAAAA4MLiQAAAAABgJeJAAAAAAEAk4UAAAAAAgCjgQAAAAABAJt9AAAAAAAC73kAAAAAAQK3eQAAAAADABd9AAAAAAOAG4EAAAAAAQC7hQAAAAACg3eJAAAAAAABl40AAAAAA4PjiQAAAAAAgd+JAAAAAAAAr4kAAAAAAoNbhQAAAAAAgkuFAAAAAAMBc4UAAAAAAACDhQAAAAADgEeFAAAAAAKBh4UAAAAAAAAziQAAAAAAghOJAAAAAAEAi4kAAAAAA4KvhQAAAAABA7+BAAAAAAIDa30AAAAAAwMrdQAAAAADALNxAAAAAAMAs20AAAAAAwIjaQAAAAAAAONpAAAAAAEBG2kAAAAAAwNzaQAAAAAAA8ttAAAAAAACr3EAAAAAAAD/dQAAAAAAAad1AAAAAAMAp3UAAAAAAgHXcQAAAAACAvNtAAAAAAEAT20AAAAAAgFvaQAAAAAAA0tlAAAAAAIAc2kAAAAAAAEfbQAAAAACAM91AAAAAAAAK3UAAAAAAwJbcQAAAAAAAw9tAAAAAAEB52kAAAAAAQArZQAAAAACAzddAAAAAAIAS10AAAAAAwKnWQAAAAABAmdZAAAAAAMDT1kAAAAAAwIPXQAAAAACAgNhAAAAAAEA62UAAAAAAADLaQAAAAABAwtpAAAAAAEAQ20AAAAAAAG3bQAAAAABALdtAAAAAAACV2kAAAAAAQGjaQAAAAAAAv9pAAAAAAECj20AAAAAAQE3dQAAAAABAbt5AAAAAAEA83kAAAAAAgJbdQAAAAABAVdxAAAAAAIC02kAAAAAAwCTZQAAAAAAAC9hAAAAAAACH10AAAAAAQHTXQAAAAABAxddAAAAAAIDP2EAAAAAAQDLbQAAAAAAA795AAAAAAAAq4EAAAAAAQM/fQAAAAAAA995AAAAAAIBQ3kAAAAAAALLdQAAAAACAL91AAAAAAADT3EAAAAAAQI/cQAAAAABAnNxAAAAAAMBB3UAAAAAAAObeQAAAAACAiOBAAAAAAOCV4EAAAAAAAErgQAAAAADARd9AAAAAAAA53UAAAAAAgEbbQAAAAACAB9pAAAAAAEBe2UAAAAAAQCHZQAAAAAAAPdlAAAAAAIAG2kAAAAAAwDrcQAAAAACAwN9AAAAAAOCt4EAAAAAAQM/gQAAAAACA1+BAAAAAAODj4EAAAAAA4NvgQAAAAACgzOBAAAAAAODT4EAAAAAAYMjgQAAAAAAA0+BAAAAAAEAj4UAAAAAA4MnhQAAAAACAKeJAAAAAAIDn4UAAAAAA4GfhQAAAAADghuBAAAAAAMCi3kAAAAAAAHDcQAAAAADA7dpAAAAAAAAV2kAAAAAAwKXZQAAAAACAodlAAAAAAEBV2kAAAAAAwFvcQAAAAABAn99AAAAAAECW4EAAAAAAYK3gQAAAAADgouBAAAAAAACf4EAAAAAA4ILgQAAAAADATuBAAAAAACAt4EAAAAAAgPrfQAAAAABA2t9AAAAAACAw4EAAAAAAoKbgQAAAAAAgveBAAAAAAABP4EAAAAAAwHbfQAAAAAAApt1AAAAAAIBI20AAAAAAwBjZQAAAAADAltdAAAAAAMDI1kAAAAAAgHPWQAAAAABAatZAAAAAAMAZ10AAAAAAQDnZQAAAAABAp9xAAAAAAMBa3kAAAAAAQMXeQAAAAABA7N5AAAAAAIAA30AAAAAAADHfQAAAAADAWd9AAAAAAIC430AAAAAAwOvfQAAAAAAgEuBAAAAAAABZ4EAAAAAAoP/gQAAAAADAsOFAAAAAACCT4UAAAAAAIDnhQAAAAABgfOBAAAAAAIDV3kAAAAAAwNvcQAAAAADAddtAAAAAAADM2kAAAAAAgK/aQAAAAAAA+NpAAAAAAMDi20AAAAAAgA3eQAAAAABAueBAAAAAAOBZ4UAAAAAAwDLhQAAAAACA+uBAAAAAAGDH4EAAAAAAgJbgQAAAAACgSeBAAAAAAIAB4EAAAAAAQHzfQAAAAACAcN9AAAAAAKAU4EAAAAAAYN3gQAAAAADA2OFAAAAAAIDE4UAAAAAAoIDhQAAAAACA8+BAAAAAAGAh4EAAAAAAQJneQAAAAABANd1AAAAAAAB83EAAAAAAgCfcQAAAAADAGtxAAAAAAAB43EAAAAAAwGTdQAAAAACApd5AAAAAAABr30AAAAAAALPfQAAAAAAARN9AAAAAAMCf3kAAAAAAQNDdQAAAAABABN1AAAAAAMAy3EAAAAAAAKLbQAAAAABAf9tAAAAAAMAi3EAAAAAAwI7dQAAAAADAvd9AAAAAAEDr30AAAAAAwJjfQAAAAAAA3d5AAAAAAACW3UAAAAAAQC7cQAAAAABA8NpAAAAAAAA92kAAAAAAwN3ZQAAAAAAAxtlAAAAAAID62UAAAAAAwJXaQA==",
          "dtype": "f8"
         }
        },
        {
         "line": {
          "color": "magenta",
          "dash": "dot",
          "width": 2
         },
         "mode": "lines",
         "name": "Predicted",
         "opacity": 0.7,
         "type": "scatter",
         "x": [
          0,
          1,
          2,
          3,
          4,
          5,
          6,
          7,
          8,
          9,
          10,
          11,
          12,
          13,
          14,
          15,
          16,
          17,
          18,
          19,
          20,
          21,
          22,
          23,
          24,
          25,
          26,
          27,
          28,
          29,
          30,
          31,
          32,
          33,
          34,
          35,
          36,
          37,
          38,
          39,
          40,
          41,
          42,
          43,
          44,
          45,
          46,
          47,
          48,
          49,
          50,
          51,
          52,
          53,
          54,
          55,
          56,
          57,
          58,
          59,
          60,
          61,
          62,
          63,
          64,
          65,
          66,
          67,
          68,
          69,
          70,
          71,
          72,
          73,
          74,
          75,
          76,
          77,
          78,
          79,
          80,
          81,
          82,
          83,
          84,
          85,
          86,
          87,
          88,
          89,
          90,
          91,
          92,
          93,
          94,
          95,
          96,
          97,
          98,
          99,
          100,
          101,
          102,
          103,
          104,
          105,
          106,
          107,
          108,
          109,
          110,
          111,
          112,
          113,
          114,
          115,
          116,
          117,
          118,
          119,
          120,
          121,
          122,
          123,
          124,
          125,
          126,
          127,
          128,
          129,
          130,
          131,
          132,
          133,
          134,
          135,
          136,
          137,
          138,
          139,
          140,
          141,
          142,
          143,
          144,
          145,
          146,
          147,
          148,
          149,
          150,
          151,
          152,
          153,
          154,
          155,
          156,
          157,
          158,
          159,
          160,
          161,
          162,
          163,
          164,
          165,
          166,
          167,
          168,
          169,
          170,
          171,
          172,
          173,
          174,
          175,
          176,
          177,
          178,
          179,
          180,
          181,
          182,
          183,
          184,
          185,
          186,
          187,
          188,
          189,
          190,
          191,
          192,
          193,
          194,
          195,
          196,
          197,
          198,
          199,
          200,
          201,
          202,
          203,
          204,
          205,
          206,
          207,
          208,
          209,
          210,
          211,
          212,
          213,
          214,
          215,
          216,
          217,
          218,
          219,
          220,
          221,
          222,
          223,
          224,
          225,
          226,
          227,
          228,
          229,
          230,
          231,
          232,
          233,
          234,
          235,
          236,
          237,
          238,
          239,
          240,
          241,
          242,
          243,
          244,
          245,
          246,
          247,
          248,
          249,
          250,
          251,
          252,
          253,
          254,
          255,
          256,
          257,
          258,
          259,
          260,
          261,
          262,
          263,
          264,
          265,
          266,
          267,
          268,
          269,
          270,
          271,
          272,
          273,
          274,
          275,
          276,
          277,
          278,
          279,
          280,
          281,
          282,
          283,
          284,
          285,
          286,
          287,
          288,
          289,
          290,
          291,
          292,
          293,
          294,
          295,
          296,
          297,
          298,
          299,
          300,
          301,
          302,
          303,
          304,
          305,
          306,
          307,
          308,
          309,
          310,
          311,
          312,
          313,
          314,
          315,
          316,
          317,
          318,
          319,
          320,
          321,
          322,
          323,
          324,
          325,
          326,
          327,
          328,
          329,
          330,
          331,
          332,
          333,
          334,
          335,
          336,
          337,
          338,
          339,
          340,
          341,
          342,
          343,
          344,
          345,
          346,
          347,
          348,
          349,
          350,
          351,
          352,
          353,
          354,
          355,
          356,
          357,
          358,
          359,
          360,
          361,
          362,
          363,
          364,
          365,
          366,
          367,
          368,
          369,
          370,
          371,
          372,
          373,
          374,
          375,
          376,
          377,
          378,
          379,
          380,
          381,
          382,
          383,
          384,
          385,
          386,
          387,
          388,
          389,
          390,
          391,
          392,
          393,
          394,
          395,
          396,
          397,
          398,
          399,
          400,
          401,
          402,
          403,
          404,
          405,
          406,
          407,
          408,
          409,
          410,
          411,
          412,
          413,
          414,
          415,
          416,
          417,
          418,
          419,
          420,
          421,
          422,
          423,
          424,
          425,
          426,
          427,
          428,
          429,
          430,
          431,
          432,
          433,
          434,
          435,
          436,
          437,
          438,
          439,
          440,
          441,
          442,
          443,
          444,
          445,
          446,
          447,
          448,
          449,
          450,
          451,
          452,
          453,
          454,
          455,
          456,
          457,
          458,
          459,
          460,
          461,
          462,
          463,
          464,
          465,
          466,
          467,
          468,
          469,
          470,
          471,
          472,
          473,
          474,
          475,
          476,
          477,
          478,
          479,
          480,
          481,
          482,
          483,
          484,
          485,
          486,
          487,
          488,
          489,
          490,
          491,
          492,
          493,
          494,
          495,
          496,
          497,
          498,
          499
         ],
         "y": {
          "bdata": "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",
          "dtype": "f4"
         }
        }
       ],
       "layout": {
        "font": {
         "color": "white"
        },
        "height": 500,
        "legend": {
         "x": 0,
         "y": 1
        },
        "paper_bgcolor": "black",
        "plot_bgcolor": "black",
        "template": {
         "data": {
          "bar": [
           {
            "error_x": {
             "color": "#f2f5fa"
            },
            "error_y": {
             "color": "#f2f5fa"
            },
            "marker": {
             "line": {
              "color": "rgb(17,17,17)",
              "width": 0.5
             },
             "pattern": {
              "fillmode": "overlay",
              "size": 10,
              "solidity": 0.2
             }
            },
            "type": "bar"
           }
          ],
          "barpolar": [
           {
            "marker": {
             "line": {
              "color": "rgb(17,17,17)",
              "width": 0.5
             },
             "pattern": {
              "fillmode": "overlay",
              "size": 10,
              "solidity": 0.2
             }
            },
            "type": "barpolar"
           }
          ],
          "carpet": [
           {
            "aaxis": {
             "endlinecolor": "#A2B1C6",
             "gridcolor": "#506784",
             "linecolor": "#506784",
             "minorgridcolor": "#506784",
             "startlinecolor": "#A2B1C6"
            },
            "baxis": {
             "endlinecolor": "#A2B1C6",
             "gridcolor": "#506784",
             "linecolor": "#506784",
             "minorgridcolor": "#506784",
             "startlinecolor": "#A2B1C6"
            },
            "type": "carpet"
           }
          ],
          "choropleth": [
           {
            "colorbar": {
             "outlinewidth": 0,
             "ticks": ""
            },
            "type": "choropleth"
           }
          ],
          "contour": [
           {
            "colorbar": {
             "outlinewidth": 0,
             "ticks": ""
            },
            "colorscale": [
             [
              0,
              "#0d0887"
             ],
             [
              0.1111111111111111,
              "#46039f"
             ],
             [
              0.2222222222222222,
              "#7201a8"
             ],
             [
              0.3333333333333333,
              "#9c179e"
             ],
             [
              0.4444444444444444,
              "#bd3786"
             ],
             [
              0.5555555555555556,
              "#d8576b"
             ],
             [
              0.6666666666666666,
              "#ed7953"
             ],
             [
              0.7777777777777778,
              "#fb9f3a"
             ],
             [
              0.8888888888888888,
              "#fdca26"
             ],
             [
              1,
              "#f0f921"
             ]
            ],
            "type": "contour"
           }
          ],
          "contourcarpet": [
           {
            "colorbar": {
             "outlinewidth": 0,
             "ticks": ""
            },
            "type": "contourcarpet"
           }
          ],
          "heatmap": [
           {
            "colorbar": {
             "outlinewidth": 0,
             "ticks": ""
            },
            "colorscale": [
             [
              0,
              "#0d0887"
             ],
             [
              0.1111111111111111,
              "#46039f"
             ],
             [
              0.2222222222222222,
              "#7201a8"
             ],
             [
              0.3333333333333333,
              "#9c179e"
             ],
             [
              0.4444444444444444,
              "#bd3786"
             ],
             [
              0.5555555555555556,
              "#d8576b"
             ],
             [
              0.6666666666666666,
              "#ed7953"
             ],
             [
              0.7777777777777778,
              "#fb9f3a"
             ],
             [
              0.8888888888888888,
              "#fdca26"
             ],
             [
              1,
              "#f0f921"
             ]
            ],
            "type": "heatmap"
           }
          ],
          "histogram": [
           {
            "marker": {
             "pattern": {
              "fillmode": "overlay",
              "size": 10,
              "solidity": 0.2
             }
            },
            "type": "histogram"
           }
          ],
          "histogram2d": [
           {
            "colorbar": {
             "outlinewidth": 0,
             "ticks": ""
            },
            "colorscale": [
             [
              0,
              "#0d0887"
             ],
             [
              0.1111111111111111,
              "#46039f"
             ],
             [
              0.2222222222222222,
              "#7201a8"
             ],
             [
              0.3333333333333333,
              "#9c179e"
             ],
             [
              0.4444444444444444,
              "#bd3786"
             ],
             [
              0.5555555555555556,
              "#d8576b"
             ],
             [
              0.6666666666666666,
              "#ed7953"
             ],
             [
              0.7777777777777778,
              "#fb9f3a"
             ],
             [
              0.8888888888888888,
              "#fdca26"
             ],
             [
              1,
              "#f0f921"
             ]
            ],
            "type": "histogram2d"
           }
          ],
          "histogram2dcontour": [
           {
            "colorbar": {
             "outlinewidth": 0,
             "ticks": ""
            },
            "colorscale": [
             [
              0,
              "#0d0887"
             ],
             [
              0.1111111111111111,
              "#46039f"
             ],
             [
              0.2222222222222222,
              "#7201a8"
             ],
             [
              0.3333333333333333,
              "#9c179e"
             ],
             [
              0.4444444444444444,
              "#bd3786"
             ],
             [
              0.5555555555555556,
              "#d8576b"
             ],
             [
              0.6666666666666666,
              "#ed7953"
             ],
             [
              0.7777777777777778,
              "#fb9f3a"
             ],
             [
              0.8888888888888888,
              "#fdca26"
             ],
             [
              1,
              "#f0f921"
             ]
            ],
            "type": "histogram2dcontour"
           }
          ],
          "mesh3d": [
           {
            "colorbar": {
             "outlinewidth": 0,
             "ticks": ""
            },
            "type": "mesh3d"
           }
          ],
          "parcoords": [
           {
            "line": {
             "colorbar": {
              "outlinewidth": 0,
              "ticks": ""
             }
            },
            "type": "parcoords"
           }
          ],
          "pie": [
           {
            "automargin": true,
            "type": "pie"
           }
          ],
          "scatter": [
           {
            "marker": {
             "line": {
              "color": "#283442"
             }
            },
            "type": "scatter"
           }
          ],
          "scatter3d": [
           {
            "line": {
             "colorbar": {
              "outlinewidth": 0,
              "ticks": ""
             }
            },
            "marker": {
             "colorbar": {
              "outlinewidth": 0,
              "ticks": ""
             }
            },
            "type": "scatter3d"
           }
          ],
          "scattercarpet": [
           {
            "marker": {
             "colorbar": {
              "outlinewidth": 0,
              "ticks": ""
             }
            },
            "type": "scattercarpet"
           }
          ],
          "scattergeo": [
           {
            "marker": {
             "colorbar": {
              "outlinewidth": 0,
              "ticks": ""
             }
            },
            "type": "scattergeo"
           }
          ],
          "scattergl": [
           {
            "marker": {
             "line": {
              "color": "#283442"
             }
            },
            "type": "scattergl"
           }
          ],
          "scattermap": [
           {
            "marker": {
             "colorbar": {
              "outlinewidth": 0,
              "ticks": ""
             }
            },
            "type": "scattermap"
           }
          ],
          "scattermapbox": [
           {
            "marker": {
             "colorbar": {
              "outlinewidth": 0,
              "ticks": ""
             }
            },
            "type": "scattermapbox"
           }
          ],
          "scatterpolar": [
           {
            "marker": {
             "colorbar": {
              "outlinewidth": 0,
              "ticks": ""
             }
            },
            "type": "scatterpolar"
           }
          ],
          "scatterpolargl": [
           {
            "marker": {
             "colorbar": {
              "outlinewidth": 0,
              "ticks": ""
             }
            },
            "type": "scatterpolargl"
           }
          ],
          "scatterternary": [
           {
            "marker": {
             "colorbar": {
              "outlinewidth": 0,
              "ticks": ""
             }
            },
            "type": "scatterternary"
           }
          ],
          "surface": [
           {
            "colorbar": {
             "outlinewidth": 0,
             "ticks": ""
            },
            "colorscale": [
             [
              0,
              "#0d0887"
             ],
             [
              0.1111111111111111,
              "#46039f"
             ],
             [
              0.2222222222222222,
              "#7201a8"
             ],
             [
              0.3333333333333333,
              "#9c179e"
             ],
             [
              0.4444444444444444,
              "#bd3786"
             ],
             [
              0.5555555555555556,
              "#d8576b"
             ],
             [
              0.6666666666666666,
              "#ed7953"
             ],
             [
              0.7777777777777778,
              "#fb9f3a"
             ],
             [
              0.8888888888888888,
              "#fdca26"
             ],
             [
              1,
              "#f0f921"
             ]
            ],
            "type": "surface"
           }
          ],
          "table": [
           {
            "cells": {
             "fill": {
              "color": "#506784"
             },
             "line": {
              "color": "rgb(17,17,17)"
             }
            },
            "header": {
             "fill": {
              "color": "#2a3f5f"
             },
             "line": {
              "color": "rgb(17,17,17)"
             }
            },
            "type": "table"
           }
          ]
         },
         "layout": {
          "annotationdefaults": {
           "arrowcolor": "#f2f5fa",
           "arrowhead": 0,
           "arrowwidth": 1
          },
          "autotypenumbers": "strict",
          "coloraxis": {
           "colorbar": {
            "outlinewidth": 0,
            "ticks": ""
           }
          },
          "colorscale": {
           "diverging": [
            [
             0,
             "#8e0152"
            ],
            [
             0.1,
             "#c51b7d"
            ],
            [
             0.2,
             "#de77ae"
            ],
            [
             0.3,
             "#f1b6da"
            ],
            [
             0.4,
             "#fde0ef"
            ],
            [
             0.5,
             "#f7f7f7"
            ],
            [
             0.6,
             "#e6f5d0"
            ],
            [
             0.7,
             "#b8e186"
            ],
            [
             0.8,
             "#7fbc41"
            ],
            [
             0.9,
             "#4d9221"
            ],
            [
             1,
             "#276419"
            ]
           ],
           "sequential": [
            [
             0,
             "#0d0887"
            ],
            [
             0.1111111111111111,
             "#46039f"
            ],
            [
             0.2222222222222222,
             "#7201a8"
            ],
            [
             0.3333333333333333,
             "#9c179e"
            ],
            [
             0.4444444444444444,
             "#bd3786"
            ],
            [
             0.5555555555555556,
             "#d8576b"
            ],
            [
             0.6666666666666666,
             "#ed7953"
            ],
            [
             0.7777777777777778,
             "#fb9f3a"
            ],
            [
             0.8888888888888888,
             "#fdca26"
            ],
            [
             1,
             "#f0f921"
            ]
           ],
           "sequentialminus": [
            [
             0,
             "#0d0887"
            ],
            [
             0.1111111111111111,
             "#46039f"
            ],
            [
             0.2222222222222222,
             "#7201a8"
            ],
            [
             0.3333333333333333,
             "#9c179e"
            ],
            [
             0.4444444444444444,
             "#bd3786"
            ],
            [
             0.5555555555555556,
             "#d8576b"
            ],
            [
             0.6666666666666666,
             "#ed7953"
            ],
            [
             0.7777777777777778,
             "#fb9f3a"
            ],
            [
             0.8888888888888888,
             "#fdca26"
            ],
            [
             1,
             "#f0f921"
            ]
           ]
          },
          "colorway": [
           "#636efa",
           "#EF553B",
           "#00cc96",
           "#ab63fa",
           "#FFA15A",
           "#19d3f3",
           "#FF6692",
           "#B6E880",
           "#FF97FF",
           "#FECB52"
          ],
          "font": {
           "color": "#f2f5fa"
          },
          "geo": {
           "bgcolor": "rgb(17,17,17)",
           "lakecolor": "rgb(17,17,17)",
           "landcolor": "rgb(17,17,17)",
           "showlakes": true,
           "showland": true,
           "subunitcolor": "#506784"
          },
          "hoverlabel": {
           "align": "left"
          },
          "hovermode": "closest",
          "mapbox": {
           "style": "dark"
          },
          "paper_bgcolor": "rgb(17,17,17)",
          "plot_bgcolor": "rgb(17,17,17)",
          "polar": {
           "angularaxis": {
            "gridcolor": "#506784",
            "linecolor": "#506784",
            "ticks": ""
           },
           "bgcolor": "rgb(17,17,17)",
           "radialaxis": {
            "gridcolor": "#506784",
            "linecolor": "#506784",
            "ticks": ""
           }
          },
          "scene": {
           "xaxis": {
            "backgroundcolor": "rgb(17,17,17)",
            "gridcolor": "#506784",
            "gridwidth": 2,
            "linecolor": "#506784",
            "showbackground": true,
            "ticks": "",
            "zerolinecolor": "#C8D4E3"
           },
           "yaxis": {
            "backgroundcolor": "rgb(17,17,17)",
            "gridcolor": "#506784",
            "gridwidth": 2,
            "linecolor": "#506784",
            "showbackground": true,
            "ticks": "",
            "zerolinecolor": "#C8D4E3"
           },
           "zaxis": {
            "backgroundcolor": "rgb(17,17,17)",
            "gridcolor": "#506784",
            "gridwidth": 2,
            "linecolor": "#506784",
            "showbackground": true,
            "ticks": "",
            "zerolinecolor": "#C8D4E3"
           }
          },
          "shapedefaults": {
           "line": {
            "color": "#f2f5fa"
           }
          },
          "sliderdefaults": {
           "bgcolor": "#C8D4E3",
           "bordercolor": "rgb(17,17,17)",
           "borderwidth": 1,
           "tickwidth": 0
          },
          "ternary": {
           "aaxis": {
            "gridcolor": "#506784",
            "linecolor": "#506784",
            "ticks": ""
           },
           "baxis": {
            "gridcolor": "#506784",
            "linecolor": "#506784",
            "ticks": ""
           },
           "bgcolor": "rgb(17,17,17)",
           "caxis": {
            "gridcolor": "#506784",
            "linecolor": "#506784",
            "ticks": ""
           }
          },
          "title": {
           "x": 0.05
          },
          "updatemenudefaults": {
           "bgcolor": "#506784",
           "borderwidth": 0
          },
          "xaxis": {
           "automargin": true,
           "gridcolor": "#283442",
           "linecolor": "#506784",
           "ticks": "",
           "title": {
            "standoff": 15
           },
           "zerolinecolor": "#283442",
           "zerolinewidth": 2
          },
          "yaxis": {
           "automargin": true,
           "gridcolor": "#283442",
           "linecolor": "#506784",
           "ticks": "",
           "title": {
            "standoff": 15
           },
           "zerolinecolor": "#283442",
           "zerolinewidth": 2
          }
         }
        },
        "title": {
         "text": "XGBoost"
        },
        "width": 1000,
        "xaxis": {
         "title": {
          "text": "Time Index"
         }
        },
        "yaxis": {
         "title": {
          "text": "Energy Consumption (MW)"
         }
        }
       }
      }
     },
     "metadata": {},
     "output_type": "display_data"
    },
    {
     "name": "stdout",
     "output_type": "stream",
     "text": [
      "CPU times: user 47.5 s, sys: 5.6 s, total: 53.1 s\n",
      "Wall time: 7.06 s\n"
     ]
    }
   ],
   "source": [
    "%%time\n",
    "\n",
    "import xgboost as xgb\n",
    "from utils.data_utils import prepare_datasets\n",
    "from sklearn.metrics import root_mean_squared_error, mean_absolute_error\n",
    "from utils.visualization_utils import plot_actual_vs_pred\n",
    "\n",
    "X_train, y_train, X_val, y_val, X_test, y_test = prepare_datasets(train, val, test)\n",
    "\n",
    "dtrain = xgb.DMatrix(X_train, label=y_train)\n",
    "dval = xgb.DMatrix(X_val, label=y_val)\n",
    "dtest = xgb.DMatrix(X_test, label=y_test)\n",
    "\n",
    "params = {\n",
    "    \"max_depth\": 6,\n",
    "    \"eta\": 0.05,\n",
    "    \"objective\": \"reg:squarederror\",\n",
    "    \"eval_metric\": \"rmse\",\n",
    "    \"subsample\": 0.8,\n",
    "    \"colsample_bytree\": 0.8,\n",
    "    \"seed\": 42,\n",
    "}\n",
    "num_round = 5000\n",
    "evallist = [(dtrain, \"train\"), (dval, \"eval\")]\n",
    "\n",
    "model = xgb.train(\n",
    "    params=params,\n",
    "    dtrain=dtrain,\n",
    "    num_boost_round=num_round,\n",
    "    evals=evallist,\n",
    "    # early_stopping_rounds=20,\n",
    "    verbose_eval=250,\n",
    ")\n",
    "\n",
    "xgb_y_pred = model.predict(dtest)\n",
    "xgb_mae = mean_absolute_error(y_test, xgb_y_pred)\n",
    "xgb_rmse = root_mean_squared_error(y_test, xgb_y_pred)\n",
    "\n",
    "print(f\"[XGBoost] Test MAE: {xgb_mae:.2f}\")\n",
    "print(f\"[XGBoost] Test RMSE: {xgb_rmse:.2f}\")\n",
    "\n",
    "plot_actual_vs_pred(y_test, xgb_y_pred, title=\"XGBoost\")"
   ]
  },
  {
   "cell_type": "markdown",
   "metadata": {},
   "source": [
    "### Data Pipeline - P2\n",
    "We prepare the data for one-step-ahead forecasting with a PyTorch model by following these steps: scaling the data, creating input sequences, reating a PyTorch Dataset, and batching with DataLoader."
   ]
  },
  {
   "cell_type": "code",
   "execution_count": 13,
   "metadata": {},
   "outputs": [
    {
     "name": "stderr",
     "output_type": "stream",
     "text": [
      "100%|██████████| 101708/101708 [01:22<00:00, 1236.09it/s]\n",
      "100%|██████████| 21757/21757 [00:04<00:00, 5017.51it/s]\n",
      "100%|██████████| 21757/21757 [00:04<00:00, 5025.78it/s]"
     ]
    },
    {
     "name": "stdout",
     "output_type": "stream",
     "text": [
      "Train Dataloader: 794\n",
      "Val Dataloader: 169\n",
      "Test Dataloader: 169\n",
      "CPU times: user 1min 6s, sys: 25.4 s, total: 1min 32s\n",
      "Wall time: 1min 31s\n"
     ]
    },
    {
     "name": "stderr",
     "output_type": "stream",
     "text": [
      "\n"
     ]
    }
   ],
   "source": [
    "%%time\n",
    "\n",
    "import numpy as np\n",
    "from torch.utils.data import DataLoader\n",
    "from utils.data_utils import scale, create_sequences\n",
    "from utils.dataset import Dataset_ECF\n",
    "\n",
    "# Takes some time; keep your eyes on memory usage\n",
    "\n",
    "train_scaled, val_scaled, test_scaled, feature_scaler, target_scaler = scale(\n",
    "    train, val, test, ignore_cols=[\"is_weekend\"]\n",
    ")\n",
    "\n",
    "X_train, y_train = create_sequences(train_scaled, window_size=24)\n",
    "X_val, y_val = create_sequences(val_scaled, window_size=24)\n",
    "X_test, y_test = create_sequences(test_scaled, window_size=24)\n",
    "\n",
    "# Shuffle the training data before creating DataLoader\n",
    "perm = np.random.permutation(len(X_train))\n",
    "X_train_shuffled = X_train[perm]\n",
    "y_train_shuffled = y_train[perm]\n",
    "\n",
    "train_ds = Dataset_ECF(X_train_shuffled, y_train_shuffled)\n",
    "val_ds = Dataset_ECF(X_val, y_val)\n",
    "test_ds = Dataset_ECF(X_test, y_test)\n",
    "\n",
    "train_dl = DataLoader(train_ds, batch_size=128, shuffle=False, drop_last=True)  # shuffle=False as we have already shuffled\n",
    "val_dl = DataLoader(val_ds, batch_size=128, shuffle=False, drop_last=True)\n",
    "test_dl = DataLoader(test_ds, batch_size=128, shuffle=False, drop_last=True)\n",
    "\n",
    "print(f\"Train Dataloader: {len(train_dl)}\")\n",
    "print(f\"Val Dataloader: {len(val_dl)}\")\n",
    "print(f\"Test Dataloader: {len(test_dl)}\")\n"
   ]
  },
  {
   "cell_type": "markdown",
   "metadata": {},
   "source": [
    "### Long Short-Term Memory\n",
    "Long Short-Term Memory (LSTM) is a type of recurrent neural network (RNN) designed to model sequential data. It can capture temporal dependencies and seasonal patterns in time series by maintaining a memory of past observations. It's the first PyTorch model in this experiment."
   ]
  },
  {
   "cell_type": "code",
   "execution_count": 14,
   "metadata": {},
   "outputs": [],
   "source": [
    "device = \"mps\"  # Defined once; change to \"cpu\" or - if available - \"cuda\""
   ]
  },
  {
   "cell_type": "code",
   "execution_count": 15,
   "metadata": {},
   "outputs": [
    {
     "name": "stderr",
     "output_type": "stream",
     "text": [
      "Epoch 01: 100%|██████████| 794/794 [00:11<00:00, 68.34it/s]\n"
     ]
    },
    {
     "name": "stdout",
     "output_type": "stream",
     "text": [
      "Epoch 01 | Train Loss: 0.0800 | Val Loss: 0.0608\n"
     ]
    },
    {
     "name": "stderr",
     "output_type": "stream",
     "text": [
      "Epoch 02: 100%|██████████| 794/794 [00:10<00:00, 73.18it/s]\n"
     ]
    },
    {
     "name": "stdout",
     "output_type": "stream",
     "text": [
      "Epoch 02 | Train Loss: 0.0430 | Val Loss: 0.0481\n"
     ]
    },
    {
     "name": "stderr",
     "output_type": "stream",
     "text": [
      "Epoch 03: 100%|██████████| 794/794 [00:10<00:00, 73.22it/s]\n"
     ]
    },
    {
     "name": "stdout",
     "output_type": "stream",
     "text": [
      "Epoch 03 | Train Loss: 0.0358 | Val Loss: 0.0446\n"
     ]
    },
    {
     "name": "stderr",
     "output_type": "stream",
     "text": [
      "Epoch 04: 100%|██████████| 794/794 [00:10<00:00, 74.65it/s]\n"
     ]
    },
    {
     "name": "stdout",
     "output_type": "stream",
     "text": [
      "Epoch 04 | Train Loss: 0.0314 | Val Loss: 0.0433\n"
     ]
    },
    {
     "name": "stderr",
     "output_type": "stream",
     "text": [
      "Epoch 05: 100%|██████████| 794/794 [00:10<00:00, 72.51it/s]\n"
     ]
    },
    {
     "name": "stdout",
     "output_type": "stream",
     "text": [
      "Epoch 05 | Train Loss: 0.0283 | Val Loss: 0.0418\n"
     ]
    },
    {
     "name": "stderr",
     "output_type": "stream",
     "text": [
      "Epoch 06: 100%|██████████| 794/794 [00:10<00:00, 72.57it/s]\n"
     ]
    },
    {
     "name": "stdout",
     "output_type": "stream",
     "text": [
      "Epoch 06 | Train Loss: 0.0259 | Val Loss: 0.0395\n"
     ]
    },
    {
     "name": "stderr",
     "output_type": "stream",
     "text": [
      "Epoch 07: 100%|██████████| 794/794 [00:11<00:00, 70.73it/s]\n"
     ]
    },
    {
     "name": "stdout",
     "output_type": "stream",
     "text": [
      "Epoch 07 | Train Loss: 0.0240 | Val Loss: 0.0375\n"
     ]
    },
    {
     "name": "stderr",
     "output_type": "stream",
     "text": [
      "Epoch 08: 100%|██████████| 794/794 [00:11<00:00, 70.39it/s]\n"
     ]
    },
    {
     "name": "stdout",
     "output_type": "stream",
     "text": [
      "Epoch 08 | Train Loss: 0.0224 | Val Loss: 0.0362\n"
     ]
    },
    {
     "name": "stderr",
     "output_type": "stream",
     "text": [
      "Epoch 09: 100%|██████████| 794/794 [00:10<00:00, 73.16it/s]\n"
     ]
    },
    {
     "name": "stdout",
     "output_type": "stream",
     "text": [
      "Epoch 09 | Train Loss: 0.0214 | Val Loss: 0.0350\n"
     ]
    },
    {
     "name": "stderr",
     "output_type": "stream",
     "text": [
      "Epoch 10: 100%|██████████| 794/794 [00:11<00:00, 71.99it/s]\n"
     ]
    },
    {
     "name": "stdout",
     "output_type": "stream",
     "text": [
      "Epoch 10 | Train Loss: 0.0201 | Val Loss: 0.0352\n"
     ]
    },
    {
     "name": "stderr",
     "output_type": "stream",
     "text": [
      "Epoch 11: 100%|██████████| 794/794 [00:10<00:00, 74.17it/s]\n"
     ]
    },
    {
     "name": "stdout",
     "output_type": "stream",
     "text": [
      "Epoch 11 | Train Loss: 0.0191 | Val Loss: 0.0377\n"
     ]
    },
    {
     "name": "stderr",
     "output_type": "stream",
     "text": [
      "Epoch 12: 100%|██████████| 794/794 [00:11<00:00, 69.65it/s]\n"
     ]
    },
    {
     "name": "stdout",
     "output_type": "stream",
     "text": [
      "Epoch 12 | Train Loss: 0.0182 | Val Loss: 0.0353\n",
      "Early stopping triggered at epoch 12\n",
      "[LSTM] Test MAE: 1058.46\n",
      "[LSTM] Test RMSE: 1421.27\n"
     ]
    },
    {
     "data": {
      "application/vnd.plotly.v1+json": {
       "config": {
        "plotlyServerURL": "https://plot.ly"
       },
       "data": [
        {
         "line": {
          "color": "deepskyblue",
          "width": 2
         },
         "mode": "lines",
         "name": "Actual",
         "opacity": 0.8,
         "type": "scatter",
         "x": [
          0,
          1,
          2,
          3,
          4,
          5,
          6,
          7,
          8,
          9,
          10,
          11,
          12,
          13,
          14,
          15,
          16,
          17,
          18,
          19,
          20,
          21,
          22,
          23,
          24,
          25,
          26,
          27,
          28,
          29,
          30,
          31,
          32,
          33,
          34,
          35,
          36,
          37,
          38,
          39,
          40,
          41,
          42,
          43,
          44,
          45,
          46,
          47,
          48,
          49,
          50,
          51,
          52,
          53,
          54,
          55,
          56,
          57,
          58,
          59,
          60,
          61,
          62,
          63,
          64,
          65,
          66,
          67,
          68,
          69,
          70,
          71,
          72,
          73,
          74,
          75,
          76,
          77,
          78,
          79,
          80,
          81,
          82,
          83,
          84,
          85,
          86,
          87,
          88,
          89,
          90,
          91,
          92,
          93,
          94,
          95,
          96,
          97,
          98,
          99,
          100,
          101,
          102,
          103,
          104,
          105,
          106,
          107,
          108,
          109,
          110,
          111,
          112,
          113,
          114,
          115,
          116,
          117,
          118,
          119,
          120,
          121,
          122,
          123,
          124,
          125,
          126,
          127,
          128,
          129,
          130,
          131,
          132,
          133,
          134,
          135,
          136,
          137,
          138,
          139,
          140,
          141,
          142,
          143,
          144,
          145,
          146,
          147,
          148,
          149,
          150,
          151,
          152,
          153,
          154,
          155,
          156,
          157,
          158,
          159,
          160,
          161,
          162,
          163,
          164,
          165,
          166,
          167,
          168,
          169,
          170,
          171,
          172,
          173,
          174,
          175,
          176,
          177,
          178,
          179,
          180,
          181,
          182,
          183,
          184,
          185,
          186,
          187,
          188,
          189,
          190,
          191,
          192,
          193,
          194,
          195,
          196,
          197,
          198,
          199,
          200,
          201,
          202,
          203,
          204,
          205,
          206,
          207,
          208,
          209,
          210,
          211,
          212,
          213,
          214,
          215,
          216,
          217,
          218,
          219,
          220,
          221,
          222,
          223,
          224,
          225,
          226,
          227,
          228,
          229,
          230,
          231,
          232,
          233,
          234,
          235,
          236,
          237,
          238,
          239,
          240,
          241,
          242,
          243,
          244,
          245,
          246,
          247,
          248,
          249,
          250,
          251,
          252,
          253,
          254,
          255,
          256,
          257,
          258,
          259,
          260,
          261,
          262,
          263,
          264,
          265,
          266,
          267,
          268,
          269,
          270,
          271,
          272,
          273,
          274,
          275,
          276,
          277,
          278,
          279,
          280,
          281,
          282,
          283,
          284,
          285,
          286,
          287,
          288,
          289,
          290,
          291,
          292,
          293,
          294,
          295,
          296,
          297,
          298,
          299,
          300,
          301,
          302,
          303,
          304,
          305,
          306,
          307,
          308,
          309,
          310,
          311,
          312,
          313,
          314,
          315,
          316,
          317,
          318,
          319,
          320,
          321,
          322,
          323,
          324,
          325,
          326,
          327,
          328,
          329,
          330,
          331,
          332,
          333,
          334,
          335,
          336,
          337,
          338,
          339,
          340,
          341,
          342,
          343,
          344,
          345,
          346,
          347,
          348,
          349,
          350,
          351,
          352,
          353,
          354,
          355,
          356,
          357,
          358,
          359,
          360,
          361,
          362,
          363,
          364,
          365,
          366,
          367,
          368,
          369,
          370,
          371,
          372,
          373,
          374,
          375,
          376,
          377,
          378,
          379,
          380,
          381,
          382,
          383,
          384,
          385,
          386,
          387,
          388,
          389,
          390,
          391,
          392,
          393,
          394,
          395,
          396,
          397,
          398,
          399,
          400,
          401,
          402,
          403,
          404,
          405,
          406,
          407,
          408,
          409,
          410,
          411,
          412,
          413,
          414,
          415,
          416,
          417,
          418,
          419,
          420,
          421,
          422,
          423,
          424,
          425,
          426,
          427,
          428,
          429,
          430,
          431,
          432,
          433,
          434,
          435,
          436,
          437,
          438,
          439,
          440,
          441,
          442,
          443,
          444,
          445,
          446,
          447,
          448,
          449,
          450,
          451,
          452,
          453,
          454,
          455,
          456,
          457,
          458,
          459,
          460,
          461,
          462,
          463,
          464,
          465,
          466,
          467,
          468,
          469,
          470,
          471,
          472,
          473,
          474,
          475,
          476,
          477,
          478,
          479,
          480,
          481,
          482,
          483,
          484,
          485,
          486,
          487,
          488,
          489,
          490,
          491,
          492,
          493,
          494,
          495,
          496,
          497,
          498,
          499
         ],
         "y": {
          "bdata": "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",
          "dtype": "f4"
         }
        },
        {
         "line": {
          "color": "magenta",
          "dash": "dot",
          "width": 2
         },
         "mode": "lines",
         "name": "Predicted",
         "opacity": 0.7,
         "type": "scatter",
         "x": [
          0,
          1,
          2,
          3,
          4,
          5,
          6,
          7,
          8,
          9,
          10,
          11,
          12,
          13,
          14,
          15,
          16,
          17,
          18,
          19,
          20,
          21,
          22,
          23,
          24,
          25,
          26,
          27,
          28,
          29,
          30,
          31,
          32,
          33,
          34,
          35,
          36,
          37,
          38,
          39,
          40,
          41,
          42,
          43,
          44,
          45,
          46,
          47,
          48,
          49,
          50,
          51,
          52,
          53,
          54,
          55,
          56,
          57,
          58,
          59,
          60,
          61,
          62,
          63,
          64,
          65,
          66,
          67,
          68,
          69,
          70,
          71,
          72,
          73,
          74,
          75,
          76,
          77,
          78,
          79,
          80,
          81,
          82,
          83,
          84,
          85,
          86,
          87,
          88,
          89,
          90,
          91,
          92,
          93,
          94,
          95,
          96,
          97,
          98,
          99,
          100,
          101,
          102,
          103,
          104,
          105,
          106,
          107,
          108,
          109,
          110,
          111,
          112,
          113,
          114,
          115,
          116,
          117,
          118,
          119,
          120,
          121,
          122,
          123,
          124,
          125,
          126,
          127,
          128,
          129,
          130,
          131,
          132,
          133,
          134,
          135,
          136,
          137,
          138,
          139,
          140,
          141,
          142,
          143,
          144,
          145,
          146,
          147,
          148,
          149,
          150,
          151,
          152,
          153,
          154,
          155,
          156,
          157,
          158,
          159,
          160,
          161,
          162,
          163,
          164,
          165,
          166,
          167,
          168,
          169,
          170,
          171,
          172,
          173,
          174,
          175,
          176,
          177,
          178,
          179,
          180,
          181,
          182,
          183,
          184,
          185,
          186,
          187,
          188,
          189,
          190,
          191,
          192,
          193,
          194,
          195,
          196,
          197,
          198,
          199,
          200,
          201,
          202,
          203,
          204,
          205,
          206,
          207,
          208,
          209,
          210,
          211,
          212,
          213,
          214,
          215,
          216,
          217,
          218,
          219,
          220,
          221,
          222,
          223,
          224,
          225,
          226,
          227,
          228,
          229,
          230,
          231,
          232,
          233,
          234,
          235,
          236,
          237,
          238,
          239,
          240,
          241,
          242,
          243,
          244,
          245,
          246,
          247,
          248,
          249,
          250,
          251,
          252,
          253,
          254,
          255,
          256,
          257,
          258,
          259,
          260,
          261,
          262,
          263,
          264,
          265,
          266,
          267,
          268,
          269,
          270,
          271,
          272,
          273,
          274,
          275,
          276,
          277,
          278,
          279,
          280,
          281,
          282,
          283,
          284,
          285,
          286,
          287,
          288,
          289,
          290,
          291,
          292,
          293,
          294,
          295,
          296,
          297,
          298,
          299,
          300,
          301,
          302,
          303,
          304,
          305,
          306,
          307,
          308,
          309,
          310,
          311,
          312,
          313,
          314,
          315,
          316,
          317,
          318,
          319,
          320,
          321,
          322,
          323,
          324,
          325,
          326,
          327,
          328,
          329,
          330,
          331,
          332,
          333,
          334,
          335,
          336,
          337,
          338,
          339,
          340,
          341,
          342,
          343,
          344,
          345,
          346,
          347,
          348,
          349,
          350,
          351,
          352,
          353,
          354,
          355,
          356,
          357,
          358,
          359,
          360,
          361,
          362,
          363,
          364,
          365,
          366,
          367,
          368,
          369,
          370,
          371,
          372,
          373,
          374,
          375,
          376,
          377,
          378,
          379,
          380,
          381,
          382,
          383,
          384,
          385,
          386,
          387,
          388,
          389,
          390,
          391,
          392,
          393,
          394,
          395,
          396,
          397,
          398,
          399,
          400,
          401,
          402,
          403,
          404,
          405,
          406,
          407,
          408,
          409,
          410,
          411,
          412,
          413,
          414,
          415,
          416,
          417,
          418,
          419,
          420,
          421,
          422,
          423,
          424,
          425,
          426,
          427,
          428,
          429,
          430,
          431,
          432,
          433,
          434,
          435,
          436,
          437,
          438,
          439,
          440,
          441,
          442,
          443,
          444,
          445,
          446,
          447,
          448,
          449,
          450,
          451,
          452,
          453,
          454,
          455,
          456,
          457,
          458,
          459,
          460,
          461,
          462,
          463,
          464,
          465,
          466,
          467,
          468,
          469,
          470,
          471,
          472,
          473,
          474,
          475,
          476,
          477,
          478,
          479,
          480,
          481,
          482,
          483,
          484,
          485,
          486,
          487,
          488,
          489,
          490,
          491,
          492,
          493,
          494,
          495,
          496,
          497,
          498,
          499
         ],
         "y": {
          "bdata": "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",
          "dtype": "f4"
         }
        }
       ],
       "layout": {
        "font": {
         "color": "white"
        },
        "height": 500,
        "legend": {
         "x": 0,
         "y": 1
        },
        "paper_bgcolor": "black",
        "plot_bgcolor": "black",
        "template": {
         "data": {
          "bar": [
           {
            "error_x": {
             "color": "#f2f5fa"
            },
            "error_y": {
             "color": "#f2f5fa"
            },
            "marker": {
             "line": {
              "color": "rgb(17,17,17)",
              "width": 0.5
             },
             "pattern": {
              "fillmode": "overlay",
              "size": 10,
              "solidity": 0.2
             }
            },
            "type": "bar"
           }
          ],
          "barpolar": [
           {
            "marker": {
             "line": {
              "color": "rgb(17,17,17)",
              "width": 0.5
             },
             "pattern": {
              "fillmode": "overlay",
              "size": 10,
              "solidity": 0.2
             }
            },
            "type": "barpolar"
           }
          ],
          "carpet": [
           {
            "aaxis": {
             "endlinecolor": "#A2B1C6",
             "gridcolor": "#506784",
             "linecolor": "#506784",
             "minorgridcolor": "#506784",
             "startlinecolor": "#A2B1C6"
            },
            "baxis": {
             "endlinecolor": "#A2B1C6",
             "gridcolor": "#506784",
             "linecolor": "#506784",
             "minorgridcolor": "#506784",
             "startlinecolor": "#A2B1C6"
            },
            "type": "carpet"
           }
          ],
          "choropleth": [
           {
            "colorbar": {
             "outlinewidth": 0,
             "ticks": ""
            },
            "type": "choropleth"
           }
          ],
          "contour": [
           {
            "colorbar": {
             "outlinewidth": 0,
             "ticks": ""
            },
            "colorscale": [
             [
              0,
              "#0d0887"
             ],
             [
              0.1111111111111111,
              "#46039f"
             ],
             [
              0.2222222222222222,
              "#7201a8"
             ],
             [
              0.3333333333333333,
              "#9c179e"
             ],
             [
              0.4444444444444444,
              "#bd3786"
             ],
             [
              0.5555555555555556,
              "#d8576b"
             ],
             [
              0.6666666666666666,
              "#ed7953"
             ],
             [
              0.7777777777777778,
              "#fb9f3a"
             ],
             [
              0.8888888888888888,
              "#fdca26"
             ],
             [
              1,
              "#f0f921"
             ]
            ],
            "type": "contour"
           }
          ],
          "contourcarpet": [
           {
            "colorbar": {
             "outlinewidth": 0,
             "ticks": ""
            },
            "type": "contourcarpet"
           }
          ],
          "heatmap": [
           {
            "colorbar": {
             "outlinewidth": 0,
             "ticks": ""
            },
            "colorscale": [
             [
              0,
              "#0d0887"
             ],
             [
              0.1111111111111111,
              "#46039f"
             ],
             [
              0.2222222222222222,
              "#7201a8"
             ],
             [
              0.3333333333333333,
              "#9c179e"
             ],
             [
              0.4444444444444444,
              "#bd3786"
             ],
             [
              0.5555555555555556,
              "#d8576b"
             ],
             [
              0.6666666666666666,
              "#ed7953"
             ],
             [
              0.7777777777777778,
              "#fb9f3a"
             ],
             [
              0.8888888888888888,
              "#fdca26"
             ],
             [
              1,
              "#f0f921"
             ]
            ],
            "type": "heatmap"
           }
          ],
          "histogram": [
           {
            "marker": {
             "pattern": {
              "fillmode": "overlay",
              "size": 10,
              "solidity": 0.2
             }
            },
            "type": "histogram"
           }
          ],
          "histogram2d": [
           {
            "colorbar": {
             "outlinewidth": 0,
             "ticks": ""
            },
            "colorscale": [
             [
              0,
              "#0d0887"
             ],
             [
              0.1111111111111111,
              "#46039f"
             ],
             [
              0.2222222222222222,
              "#7201a8"
             ],
             [
              0.3333333333333333,
              "#9c179e"
             ],
             [
              0.4444444444444444,
              "#bd3786"
             ],
             [
              0.5555555555555556,
              "#d8576b"
             ],
             [
              0.6666666666666666,
              "#ed7953"
             ],
             [
              0.7777777777777778,
              "#fb9f3a"
             ],
             [
              0.8888888888888888,
              "#fdca26"
             ],
             [
              1,
              "#f0f921"
             ]
            ],
            "type": "histogram2d"
           }
          ],
          "histogram2dcontour": [
           {
            "colorbar": {
             "outlinewidth": 0,
             "ticks": ""
            },
            "colorscale": [
             [
              0,
              "#0d0887"
             ],
             [
              0.1111111111111111,
              "#46039f"
             ],
             [
              0.2222222222222222,
              "#7201a8"
             ],
             [
              0.3333333333333333,
              "#9c179e"
             ],
             [
              0.4444444444444444,
              "#bd3786"
             ],
             [
              0.5555555555555556,
              "#d8576b"
             ],
             [
              0.6666666666666666,
              "#ed7953"
             ],
             [
              0.7777777777777778,
              "#fb9f3a"
             ],
             [
              0.8888888888888888,
              "#fdca26"
             ],
             [
              1,
              "#f0f921"
             ]
            ],
            "type": "histogram2dcontour"
           }
          ],
          "mesh3d": [
           {
            "colorbar": {
             "outlinewidth": 0,
             "ticks": ""
            },
            "type": "mesh3d"
           }
          ],
          "parcoords": [
           {
            "line": {
             "colorbar": {
              "outlinewidth": 0,
              "ticks": ""
             }
            },
            "type": "parcoords"
           }
          ],
          "pie": [
           {
            "automargin": true,
            "type": "pie"
           }
          ],
          "scatter": [
           {
            "marker": {
             "line": {
              "color": "#283442"
             }
            },
            "type": "scatter"
           }
          ],
          "scatter3d": [
           {
            "line": {
             "colorbar": {
              "outlinewidth": 0,
              "ticks": ""
             }
            },
            "marker": {
             "colorbar": {
              "outlinewidth": 0,
              "ticks": ""
             }
            },
            "type": "scatter3d"
           }
          ],
          "scattercarpet": [
           {
            "marker": {
             "colorbar": {
              "outlinewidth": 0,
              "ticks": ""
             }
            },
            "type": "scattercarpet"
           }
          ],
          "scattergeo": [
           {
            "marker": {
             "colorbar": {
              "outlinewidth": 0,
              "ticks": ""
             }
            },
            "type": "scattergeo"
           }
          ],
          "scattergl": [
           {
            "marker": {
             "line": {
              "color": "#283442"
             }
            },
            "type": "scattergl"
           }
          ],
          "scattermap": [
           {
            "marker": {
             "colorbar": {
              "outlinewidth": 0,
              "ticks": ""
             }
            },
            "type": "scattermap"
           }
          ],
          "scattermapbox": [
           {
            "marker": {
             "colorbar": {
              "outlinewidth": 0,
              "ticks": ""
             }
            },
            "type": "scattermapbox"
           }
          ],
          "scatterpolar": [
           {
            "marker": {
             "colorbar": {
              "outlinewidth": 0,
              "ticks": ""
             }
            },
            "type": "scatterpolar"
           }
          ],
          "scatterpolargl": [
           {
            "marker": {
             "colorbar": {
              "outlinewidth": 0,
              "ticks": ""
             }
            },
            "type": "scatterpolargl"
           }
          ],
          "scatterternary": [
           {
            "marker": {
             "colorbar": {
              "outlinewidth": 0,
              "ticks": ""
             }
            },
            "type": "scatterternary"
           }
          ],
          "surface": [
           {
            "colorbar": {
             "outlinewidth": 0,
             "ticks": ""
            },
            "colorscale": [
             [
              0,
              "#0d0887"
             ],
             [
              0.1111111111111111,
              "#46039f"
             ],
             [
              0.2222222222222222,
              "#7201a8"
             ],
             [
              0.3333333333333333,
              "#9c179e"
             ],
             [
              0.4444444444444444,
              "#bd3786"
             ],
             [
              0.5555555555555556,
              "#d8576b"
             ],
             [
              0.6666666666666666,
              "#ed7953"
             ],
             [
              0.7777777777777778,
              "#fb9f3a"
             ],
             [
              0.8888888888888888,
              "#fdca26"
             ],
             [
              1,
              "#f0f921"
             ]
            ],
            "type": "surface"
           }
          ],
          "table": [
           {
            "cells": {
             "fill": {
              "color": "#506784"
             },
             "line": {
              "color": "rgb(17,17,17)"
             }
            },
            "header": {
             "fill": {
              "color": "#2a3f5f"
             },
             "line": {
              "color": "rgb(17,17,17)"
             }
            },
            "type": "table"
           }
          ]
         },
         "layout": {
          "annotationdefaults": {
           "arrowcolor": "#f2f5fa",
           "arrowhead": 0,
           "arrowwidth": 1
          },
          "autotypenumbers": "strict",
          "coloraxis": {
           "colorbar": {
            "outlinewidth": 0,
            "ticks": ""
           }
          },
          "colorscale": {
           "diverging": [
            [
             0,
             "#8e0152"
            ],
            [
             0.1,
             "#c51b7d"
            ],
            [
             0.2,
             "#de77ae"
            ],
            [
             0.3,
             "#f1b6da"
            ],
            [
             0.4,
             "#fde0ef"
            ],
            [
             0.5,
             "#f7f7f7"
            ],
            [
             0.6,
             "#e6f5d0"
            ],
            [
             0.7,
             "#b8e186"
            ],
            [
             0.8,
             "#7fbc41"
            ],
            [
             0.9,
             "#4d9221"
            ],
            [
             1,
             "#276419"
            ]
           ],
           "sequential": [
            [
             0,
             "#0d0887"
            ],
            [
             0.1111111111111111,
             "#46039f"
            ],
            [
             0.2222222222222222,
             "#7201a8"
            ],
            [
             0.3333333333333333,
             "#9c179e"
            ],
            [
             0.4444444444444444,
             "#bd3786"
            ],
            [
             0.5555555555555556,
             "#d8576b"
            ],
            [
             0.6666666666666666,
             "#ed7953"
            ],
            [
             0.7777777777777778,
             "#fb9f3a"
            ],
            [
             0.8888888888888888,
             "#fdca26"
            ],
            [
             1,
             "#f0f921"
            ]
           ],
           "sequentialminus": [
            [
             0,
             "#0d0887"
            ],
            [
             0.1111111111111111,
             "#46039f"
            ],
            [
             0.2222222222222222,
             "#7201a8"
            ],
            [
             0.3333333333333333,
             "#9c179e"
            ],
            [
             0.4444444444444444,
             "#bd3786"
            ],
            [
             0.5555555555555556,
             "#d8576b"
            ],
            [
             0.6666666666666666,
             "#ed7953"
            ],
            [
             0.7777777777777778,
             "#fb9f3a"
            ],
            [
             0.8888888888888888,
             "#fdca26"
            ],
            [
             1,
             "#f0f921"
            ]
           ]
          },
          "colorway": [
           "#636efa",
           "#EF553B",
           "#00cc96",
           "#ab63fa",
           "#FFA15A",
           "#19d3f3",
           "#FF6692",
           "#B6E880",
           "#FF97FF",
           "#FECB52"
          ],
          "font": {
           "color": "#f2f5fa"
          },
          "geo": {
           "bgcolor": "rgb(17,17,17)",
           "lakecolor": "rgb(17,17,17)",
           "landcolor": "rgb(17,17,17)",
           "showlakes": true,
           "showland": true,
           "subunitcolor": "#506784"
          },
          "hoverlabel": {
           "align": "left"
          },
          "hovermode": "closest",
          "mapbox": {
           "style": "dark"
          },
          "paper_bgcolor": "rgb(17,17,17)",
          "plot_bgcolor": "rgb(17,17,17)",
          "polar": {
           "angularaxis": {
            "gridcolor": "#506784",
            "linecolor": "#506784",
            "ticks": ""
           },
           "bgcolor": "rgb(17,17,17)",
           "radialaxis": {
            "gridcolor": "#506784",
            "linecolor": "#506784",
            "ticks": ""
           }
          },
          "scene": {
           "xaxis": {
            "backgroundcolor": "rgb(17,17,17)",
            "gridcolor": "#506784",
            "gridwidth": 2,
            "linecolor": "#506784",
            "showbackground": true,
            "ticks": "",
            "zerolinecolor": "#C8D4E3"
           },
           "yaxis": {
            "backgroundcolor": "rgb(17,17,17)",
            "gridcolor": "#506784",
            "gridwidth": 2,
            "linecolor": "#506784",
            "showbackground": true,
            "ticks": "",
            "zerolinecolor": "#C8D4E3"
           },
           "zaxis": {
            "backgroundcolor": "rgb(17,17,17)",
            "gridcolor": "#506784",
            "gridwidth": 2,
            "linecolor": "#506784",
            "showbackground": true,
            "ticks": "",
            "zerolinecolor": "#C8D4E3"
           }
          },
          "shapedefaults": {
           "line": {
            "color": "#f2f5fa"
           }
          },
          "sliderdefaults": {
           "bgcolor": "#C8D4E3",
           "bordercolor": "rgb(17,17,17)",
           "borderwidth": 1,
           "tickwidth": 0
          },
          "ternary": {
           "aaxis": {
            "gridcolor": "#506784",
            "linecolor": "#506784",
            "ticks": ""
           },
           "baxis": {
            "gridcolor": "#506784",
            "linecolor": "#506784",
            "ticks": ""
           },
           "bgcolor": "rgb(17,17,17)",
           "caxis": {
            "gridcolor": "#506784",
            "linecolor": "#506784",
            "ticks": ""
           }
          },
          "title": {
           "x": 0.05
          },
          "updatemenudefaults": {
           "bgcolor": "#506784",
           "borderwidth": 0
          },
          "xaxis": {
           "automargin": true,
           "gridcolor": "#283442",
           "linecolor": "#506784",
           "ticks": "",
           "title": {
            "standoff": 15
           },
           "zerolinecolor": "#283442",
           "zerolinewidth": 2
          },
          "yaxis": {
           "automargin": true,
           "gridcolor": "#283442",
           "linecolor": "#506784",
           "ticks": "",
           "title": {
            "standoff": 15
           },
           "zerolinecolor": "#283442",
           "zerolinewidth": 2
          }
         }
        },
        "title": {
         "text": "LSTM"
        },
        "width": 1000,
        "xaxis": {
         "title": {
          "text": "Time Index"
         }
        },
        "yaxis": {
         "title": {
          "text": "Energy Consumption (MW)"
         }
        }
       }
      }
     },
     "metadata": {},
     "output_type": "display_data"
    },
    {
     "name": "stdout",
     "output_type": "stream",
     "text": [
      "CPU times: user 1min 11s, sys: 8.83 s, total: 1min 20s\n",
      "Wall time: 2min 27s\n"
     ]
    }
   ],
   "source": [
    "%%time\n",
    "\n",
    "import torch\n",
    "from models.lstm import LSTM_ECF\n",
    "from utils.training_utils import set_seed, train, evaluate\n",
    "from sklearn.metrics import mean_absolute_error, root_mean_squared_error\n",
    "from utils.visualization_utils import plot_actual_vs_pred\n",
    "\n",
    "set_seed(42)\n",
    "\n",
    "lstm_model = LSTM_ECF(input_size=X_train.shape[2])\n",
    "\n",
    "lstm_model = train(\n",
    "    lstm_model,\n",
    "    train_loader=train_dl,\n",
    "    val_loader=val_dl,\n",
    "    optimizer=torch.optim.Adam(lstm_model.parameters(), lr=1e-3),\n",
    "    loss_fn=torch.nn.MSELoss(),\n",
    "    num_epochs=30,\n",
    "    patience=3,\n",
    "    device=device,\n",
    ")\n",
    "\n",
    "lstm_y_true, lstm_y_pred = evaluate(lstm_model, test_dl, device)\n",
    "lstm_y_true = target_scaler.inverse_transform(lstm_y_true.reshape(-1, 1)).flatten()\n",
    "lstm_y_pred = target_scaler.inverse_transform(lstm_y_pred.reshape(-1, 1)).flatten()\n",
    "\n",
    "lstm_mae = mean_absolute_error(lstm_y_true, lstm_y_pred)\n",
    "lstm_rmse = root_mean_squared_error(lstm_y_true, lstm_y_pred)\n",
    "\n",
    "print(f\"[LSTM] Test MAE: {lstm_mae:.2f}\")\n",
    "print(f\"[LSTM] Test RMSE: {lstm_rmse:.2f}\")\n",
    "\n",
    "plot_actual_vs_pred(lstm_y_true, lstm_y_pred, title=\"LSTM\")"
   ]
  },
  {
   "cell_type": "markdown",
   "metadata": {},
   "source": [
    "**LSTM improves forecasts compared to XGBoost.**"
   ]
  },
  {
   "cell_type": "markdown",
   "metadata": {},
   "source": [
    "### Temporal Convolutional Networks\n",
    "Temporal Convolutional Networks (TCNs) are an alternative to recurrent models for handling sequential data. Unlike LSTMs, which process inputs step by step, TCNs use causal and dilated convolutions to capture temporal dependencies, enabling them to process entire sequences in parallel. TCNs are particularly effective at learning long-term patterns in time series data."
   ]
  },
  {
   "cell_type": "code",
   "execution_count": 16,
   "metadata": {},
   "outputs": [
    {
     "name": "stderr",
     "output_type": "stream",
     "text": [
      "Epoch 01: 100%|██████████| 794/794 [00:12<00:00, 62.16it/s]\n"
     ]
    },
    {
     "name": "stdout",
     "output_type": "stream",
     "text": [
      "Epoch 01 | Train Loss: 0.0830 | Val Loss: 0.0513\n"
     ]
    },
    {
     "name": "stderr",
     "output_type": "stream",
     "text": [
      "Epoch 02: 100%|██████████| 794/794 [00:12<00:00, 65.39it/s]\n"
     ]
    },
    {
     "name": "stdout",
     "output_type": "stream",
     "text": [
      "Epoch 02 | Train Loss: 0.0435 | Val Loss: 0.0429\n"
     ]
    },
    {
     "name": "stderr",
     "output_type": "stream",
     "text": [
      "Epoch 03: 100%|██████████| 794/794 [00:12<00:00, 63.70it/s]\n"
     ]
    },
    {
     "name": "stdout",
     "output_type": "stream",
     "text": [
      "Epoch 03 | Train Loss: 0.0368 | Val Loss: 0.0381\n"
     ]
    },
    {
     "name": "stderr",
     "output_type": "stream",
     "text": [
      "Epoch 04: 100%|██████████| 794/794 [00:12<00:00, 64.67it/s]\n"
     ]
    },
    {
     "name": "stdout",
     "output_type": "stream",
     "text": [
      "Epoch 04 | Train Loss: 0.0333 | Val Loss: 0.0349\n"
     ]
    },
    {
     "name": "stderr",
     "output_type": "stream",
     "text": [
      "Epoch 05: 100%|██████████| 794/794 [00:12<00:00, 65.96it/s]\n"
     ]
    },
    {
     "name": "stdout",
     "output_type": "stream",
     "text": [
      "Epoch 05 | Train Loss: 0.0311 | Val Loss: 0.0318\n"
     ]
    },
    {
     "name": "stderr",
     "output_type": "stream",
     "text": [
      "Epoch 06: 100%|██████████| 794/794 [00:12<00:00, 65.91it/s]\n"
     ]
    },
    {
     "name": "stdout",
     "output_type": "stream",
     "text": [
      "Epoch 06 | Train Loss: 0.0296 | Val Loss: 0.0315\n"
     ]
    },
    {
     "name": "stderr",
     "output_type": "stream",
     "text": [
      "Epoch 07: 100%|██████████| 794/794 [00:12<00:00, 63.92it/s]\n"
     ]
    },
    {
     "name": "stdout",
     "output_type": "stream",
     "text": [
      "Epoch 07 | Train Loss: 0.0282 | Val Loss: 0.0306\n"
     ]
    },
    {
     "name": "stderr",
     "output_type": "stream",
     "text": [
      "Epoch 08: 100%|██████████| 794/794 [00:12<00:00, 63.87it/s]\n"
     ]
    },
    {
     "name": "stdout",
     "output_type": "stream",
     "text": [
      "Epoch 08 | Train Loss: 0.0273 | Val Loss: 0.0279\n"
     ]
    },
    {
     "name": "stderr",
     "output_type": "stream",
     "text": [
      "Epoch 09: 100%|██████████| 794/794 [00:11<00:00, 66.54it/s]\n"
     ]
    },
    {
     "name": "stdout",
     "output_type": "stream",
     "text": [
      "Epoch 09 | Train Loss: 0.0264 | Val Loss: 0.0275\n"
     ]
    },
    {
     "name": "stderr",
     "output_type": "stream",
     "text": [
      "Epoch 10: 100%|██████████| 794/794 [00:12<00:00, 65.40it/s]\n"
     ]
    },
    {
     "name": "stdout",
     "output_type": "stream",
     "text": [
      "Epoch 10 | Train Loss: 0.0258 | Val Loss: 0.0275\n"
     ]
    },
    {
     "name": "stderr",
     "output_type": "stream",
     "text": [
      "Epoch 11: 100%|██████████| 794/794 [00:12<00:00, 65.44it/s]\n"
     ]
    },
    {
     "name": "stdout",
     "output_type": "stream",
     "text": [
      "Epoch 11 | Train Loss: 0.0250 | Val Loss: 0.0269\n"
     ]
    },
    {
     "name": "stderr",
     "output_type": "stream",
     "text": [
      "Epoch 12: 100%|██████████| 794/794 [00:11<00:00, 66.90it/s]\n"
     ]
    },
    {
     "name": "stdout",
     "output_type": "stream",
     "text": [
      "Epoch 12 | Train Loss: 0.0246 | Val Loss: 0.0263\n"
     ]
    },
    {
     "name": "stderr",
     "output_type": "stream",
     "text": [
      "Epoch 13: 100%|██████████| 794/794 [00:12<00:00, 65.99it/s]\n"
     ]
    },
    {
     "name": "stdout",
     "output_type": "stream",
     "text": [
      "Epoch 13 | Train Loss: 0.0239 | Val Loss: 0.0263\n"
     ]
    },
    {
     "name": "stderr",
     "output_type": "stream",
     "text": [
      "Epoch 14: 100%|██████████| 794/794 [00:11<00:00, 66.38it/s]\n"
     ]
    },
    {
     "name": "stdout",
     "output_type": "stream",
     "text": [
      "Epoch 14 | Train Loss: 0.0233 | Val Loss: 0.0255\n"
     ]
    },
    {
     "name": "stderr",
     "output_type": "stream",
     "text": [
      "Epoch 15: 100%|██████████| 794/794 [00:11<00:00, 66.35it/s]\n"
     ]
    },
    {
     "name": "stdout",
     "output_type": "stream",
     "text": [
      "Epoch 15 | Train Loss: 0.0230 | Val Loss: 0.0259\n"
     ]
    },
    {
     "name": "stderr",
     "output_type": "stream",
     "text": [
      "Epoch 16: 100%|██████████| 794/794 [00:12<00:00, 65.32it/s]\n"
     ]
    },
    {
     "name": "stdout",
     "output_type": "stream",
     "text": [
      "Epoch 16 | Train Loss: 0.0227 | Val Loss: 0.0251\n"
     ]
    },
    {
     "name": "stderr",
     "output_type": "stream",
     "text": [
      "Epoch 17: 100%|██████████| 794/794 [00:12<00:00, 65.14it/s]\n"
     ]
    },
    {
     "name": "stdout",
     "output_type": "stream",
     "text": [
      "Epoch 17 | Train Loss: 0.0225 | Val Loss: 0.0248\n"
     ]
    },
    {
     "name": "stderr",
     "output_type": "stream",
     "text": [
      "Epoch 18: 100%|██████████| 794/794 [00:12<00:00, 65.07it/s]\n"
     ]
    },
    {
     "name": "stdout",
     "output_type": "stream",
     "text": [
      "Epoch 18 | Train Loss: 0.0219 | Val Loss: 0.0252\n"
     ]
    },
    {
     "name": "stderr",
     "output_type": "stream",
     "text": [
      "Epoch 19: 100%|██████████| 794/794 [00:12<00:00, 65.92it/s]\n"
     ]
    },
    {
     "name": "stdout",
     "output_type": "stream",
     "text": [
      "Epoch 19 | Train Loss: 0.0218 | Val Loss: 0.0265\n"
     ]
    },
    {
     "name": "stderr",
     "output_type": "stream",
     "text": [
      "Epoch 20: 100%|██████████| 794/794 [00:11<00:00, 66.22it/s]\n"
     ]
    },
    {
     "name": "stdout",
     "output_type": "stream",
     "text": [
      "Epoch 20 | Train Loss: 0.0215 | Val Loss: 0.0252\n",
      "Early stopping triggered at epoch 20\n",
      "[TCN] Test MAE: 845.14\n",
      "[TCN] Test RMSE: 1152.52\n"
     ]
    },
    {
     "data": {
      "application/vnd.plotly.v1+json": {
       "config": {
        "plotlyServerURL": "https://plot.ly"
       },
       "data": [
        {
         "line": {
          "color": "deepskyblue",
          "width": 2
         },
         "mode": "lines",
         "name": "Actual",
         "opacity": 0.8,
         "type": "scatter",
         "x": [
          0,
          1,
          2,
          3,
          4,
          5,
          6,
          7,
          8,
          9,
          10,
          11,
          12,
          13,
          14,
          15,
          16,
          17,
          18,
          19,
          20,
          21,
          22,
          23,
          24,
          25,
          26,
          27,
          28,
          29,
          30,
          31,
          32,
          33,
          34,
          35,
          36,
          37,
          38,
          39,
          40,
          41,
          42,
          43,
          44,
          45,
          46,
          47,
          48,
          49,
          50,
          51,
          52,
          53,
          54,
          55,
          56,
          57,
          58,
          59,
          60,
          61,
          62,
          63,
          64,
          65,
          66,
          67,
          68,
          69,
          70,
          71,
          72,
          73,
          74,
          75,
          76,
          77,
          78,
          79,
          80,
          81,
          82,
          83,
          84,
          85,
          86,
          87,
          88,
          89,
          90,
          91,
          92,
          93,
          94,
          95,
          96,
          97,
          98,
          99,
          100,
          101,
          102,
          103,
          104,
          105,
          106,
          107,
          108,
          109,
          110,
          111,
          112,
          113,
          114,
          115,
          116,
          117,
          118,
          119,
          120,
          121,
          122,
          123,
          124,
          125,
          126,
          127,
          128,
          129,
          130,
          131,
          132,
          133,
          134,
          135,
          136,
          137,
          138,
          139,
          140,
          141,
          142,
          143,
          144,
          145,
          146,
          147,
          148,
          149,
          150,
          151,
          152,
          153,
          154,
          155,
          156,
          157,
          158,
          159,
          160,
          161,
          162,
          163,
          164,
          165,
          166,
          167,
          168,
          169,
          170,
          171,
          172,
          173,
          174,
          175,
          176,
          177,
          178,
          179,
          180,
          181,
          182,
          183,
          184,
          185,
          186,
          187,
          188,
          189,
          190,
          191,
          192,
          193,
          194,
          195,
          196,
          197,
          198,
          199,
          200,
          201,
          202,
          203,
          204,
          205,
          206,
          207,
          208,
          209,
          210,
          211,
          212,
          213,
          214,
          215,
          216,
          217,
          218,
          219,
          220,
          221,
          222,
          223,
          224,
          225,
          226,
          227,
          228,
          229,
          230,
          231,
          232,
          233,
          234,
          235,
          236,
          237,
          238,
          239,
          240,
          241,
          242,
          243,
          244,
          245,
          246,
          247,
          248,
          249,
          250,
          251,
          252,
          253,
          254,
          255,
          256,
          257,
          258,
          259,
          260,
          261,
          262,
          263,
          264,
          265,
          266,
          267,
          268,
          269,
          270,
          271,
          272,
          273,
          274,
          275,
          276,
          277,
          278,
          279,
          280,
          281,
          282,
          283,
          284,
          285,
          286,
          287,
          288,
          289,
          290,
          291,
          292,
          293,
          294,
          295,
          296,
          297,
          298,
          299,
          300,
          301,
          302,
          303,
          304,
          305,
          306,
          307,
          308,
          309,
          310,
          311,
          312,
          313,
          314,
          315,
          316,
          317,
          318,
          319,
          320,
          321,
          322,
          323,
          324,
          325,
          326,
          327,
          328,
          329,
          330,
          331,
          332,
          333,
          334,
          335,
          336,
          337,
          338,
          339,
          340,
          341,
          342,
          343,
          344,
          345,
          346,
          347,
          348,
          349,
          350,
          351,
          352,
          353,
          354,
          355,
          356,
          357,
          358,
          359,
          360,
          361,
          362,
          363,
          364,
          365,
          366,
          367,
          368,
          369,
          370,
          371,
          372,
          373,
          374,
          375,
          376,
          377,
          378,
          379,
          380,
          381,
          382,
          383,
          384,
          385,
          386,
          387,
          388,
          389,
          390,
          391,
          392,
          393,
          394,
          395,
          396,
          397,
          398,
          399,
          400,
          401,
          402,
          403,
          404,
          405,
          406,
          407,
          408,
          409,
          410,
          411,
          412,
          413,
          414,
          415,
          416,
          417,
          418,
          419,
          420,
          421,
          422,
          423,
          424,
          425,
          426,
          427,
          428,
          429,
          430,
          431,
          432,
          433,
          434,
          435,
          436,
          437,
          438,
          439,
          440,
          441,
          442,
          443,
          444,
          445,
          446,
          447,
          448,
          449,
          450,
          451,
          452,
          453,
          454,
          455,
          456,
          457,
          458,
          459,
          460,
          461,
          462,
          463,
          464,
          465,
          466,
          467,
          468,
          469,
          470,
          471,
          472,
          473,
          474,
          475,
          476,
          477,
          478,
          479,
          480,
          481,
          482,
          483,
          484,
          485,
          486,
          487,
          488,
          489,
          490,
          491,
          492,
          493,
          494,
          495,
          496,
          497,
          498,
          499
         ],
         "y": {
          "bdata": "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",
          "dtype": "f4"
         }
        },
        {
         "line": {
          "color": "magenta",
          "dash": "dot",
          "width": 2
         },
         "mode": "lines",
         "name": "Predicted",
         "opacity": 0.7,
         "type": "scatter",
         "x": [
          0,
          1,
          2,
          3,
          4,
          5,
          6,
          7,
          8,
          9,
          10,
          11,
          12,
          13,
          14,
          15,
          16,
          17,
          18,
          19,
          20,
          21,
          22,
          23,
          24,
          25,
          26,
          27,
          28,
          29,
          30,
          31,
          32,
          33,
          34,
          35,
          36,
          37,
          38,
          39,
          40,
          41,
          42,
          43,
          44,
          45,
          46,
          47,
          48,
          49,
          50,
          51,
          52,
          53,
          54,
          55,
          56,
          57,
          58,
          59,
          60,
          61,
          62,
          63,
          64,
          65,
          66,
          67,
          68,
          69,
          70,
          71,
          72,
          73,
          74,
          75,
          76,
          77,
          78,
          79,
          80,
          81,
          82,
          83,
          84,
          85,
          86,
          87,
          88,
          89,
          90,
          91,
          92,
          93,
          94,
          95,
          96,
          97,
          98,
          99,
          100,
          101,
          102,
          103,
          104,
          105,
          106,
          107,
          108,
          109,
          110,
          111,
          112,
          113,
          114,
          115,
          116,
          117,
          118,
          119,
          120,
          121,
          122,
          123,
          124,
          125,
          126,
          127,
          128,
          129,
          130,
          131,
          132,
          133,
          134,
          135,
          136,
          137,
          138,
          139,
          140,
          141,
          142,
          143,
          144,
          145,
          146,
          147,
          148,
          149,
          150,
          151,
          152,
          153,
          154,
          155,
          156,
          157,
          158,
          159,
          160,
          161,
          162,
          163,
          164,
          165,
          166,
          167,
          168,
          169,
          170,
          171,
          172,
          173,
          174,
          175,
          176,
          177,
          178,
          179,
          180,
          181,
          182,
          183,
          184,
          185,
          186,
          187,
          188,
          189,
          190,
          191,
          192,
          193,
          194,
          195,
          196,
          197,
          198,
          199,
          200,
          201,
          202,
          203,
          204,
          205,
          206,
          207,
          208,
          209,
          210,
          211,
          212,
          213,
          214,
          215,
          216,
          217,
          218,
          219,
          220,
          221,
          222,
          223,
          224,
          225,
          226,
          227,
          228,
          229,
          230,
          231,
          232,
          233,
          234,
          235,
          236,
          237,
          238,
          239,
          240,
          241,
          242,
          243,
          244,
          245,
          246,
          247,
          248,
          249,
          250,
          251,
          252,
          253,
          254,
          255,
          256,
          257,
          258,
          259,
          260,
          261,
          262,
          263,
          264,
          265,
          266,
          267,
          268,
          269,
          270,
          271,
          272,
          273,
          274,
          275,
          276,
          277,
          278,
          279,
          280,
          281,
          282,
          283,
          284,
          285,
          286,
          287,
          288,
          289,
          290,
          291,
          292,
          293,
          294,
          295,
          296,
          297,
          298,
          299,
          300,
          301,
          302,
          303,
          304,
          305,
          306,
          307,
          308,
          309,
          310,
          311,
          312,
          313,
          314,
          315,
          316,
          317,
          318,
          319,
          320,
          321,
          322,
          323,
          324,
          325,
          326,
          327,
          328,
          329,
          330,
          331,
          332,
          333,
          334,
          335,
          336,
          337,
          338,
          339,
          340,
          341,
          342,
          343,
          344,
          345,
          346,
          347,
          348,
          349,
          350,
          351,
          352,
          353,
          354,
          355,
          356,
          357,
          358,
          359,
          360,
          361,
          362,
          363,
          364,
          365,
          366,
          367,
          368,
          369,
          370,
          371,
          372,
          373,
          374,
          375,
          376,
          377,
          378,
          379,
          380,
          381,
          382,
          383,
          384,
          385,
          386,
          387,
          388,
          389,
          390,
          391,
          392,
          393,
          394,
          395,
          396,
          397,
          398,
          399,
          400,
          401,
          402,
          403,
          404,
          405,
          406,
          407,
          408,
          409,
          410,
          411,
          412,
          413,
          414,
          415,
          416,
          417,
          418,
          419,
          420,
          421,
          422,
          423,
          424,
          425,
          426,
          427,
          428,
          429,
          430,
          431,
          432,
          433,
          434,
          435,
          436,
          437,
          438,
          439,
          440,
          441,
          442,
          443,
          444,
          445,
          446,
          447,
          448,
          449,
          450,
          451,
          452,
          453,
          454,
          455,
          456,
          457,
          458,
          459,
          460,
          461,
          462,
          463,
          464,
          465,
          466,
          467,
          468,
          469,
          470,
          471,
          472,
          473,
          474,
          475,
          476,
          477,
          478,
          479,
          480,
          481,
          482,
          483,
          484,
          485,
          486,
          487,
          488,
          489,
          490,
          491,
          492,
          493,
          494,
          495,
          496,
          497,
          498,
          499
         ],
         "y": {
          "bdata": "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",
          "dtype": "f4"
         }
        }
       ],
       "layout": {
        "font": {
         "color": "white"
        },
        "height": 500,
        "legend": {
         "x": 0,
         "y": 1
        },
        "paper_bgcolor": "black",
        "plot_bgcolor": "black",
        "template": {
         "data": {
          "bar": [
           {
            "error_x": {
             "color": "#f2f5fa"
            },
            "error_y": {
             "color": "#f2f5fa"
            },
            "marker": {
             "line": {
              "color": "rgb(17,17,17)",
              "width": 0.5
             },
             "pattern": {
              "fillmode": "overlay",
              "size": 10,
              "solidity": 0.2
             }
            },
            "type": "bar"
           }
          ],
          "barpolar": [
           {
            "marker": {
             "line": {
              "color": "rgb(17,17,17)",
              "width": 0.5
             },
             "pattern": {
              "fillmode": "overlay",
              "size": 10,
              "solidity": 0.2
             }
            },
            "type": "barpolar"
           }
          ],
          "carpet": [
           {
            "aaxis": {
             "endlinecolor": "#A2B1C6",
             "gridcolor": "#506784",
             "linecolor": "#506784",
             "minorgridcolor": "#506784",
             "startlinecolor": "#A2B1C6"
            },
            "baxis": {
             "endlinecolor": "#A2B1C6",
             "gridcolor": "#506784",
             "linecolor": "#506784",
             "minorgridcolor": "#506784",
             "startlinecolor": "#A2B1C6"
            },
            "type": "carpet"
           }
          ],
          "choropleth": [
           {
            "colorbar": {
             "outlinewidth": 0,
             "ticks": ""
            },
            "type": "choropleth"
           }
          ],
          "contour": [
           {
            "colorbar": {
             "outlinewidth": 0,
             "ticks": ""
            },
            "colorscale": [
             [
              0,
              "#0d0887"
             ],
             [
              0.1111111111111111,
              "#46039f"
             ],
             [
              0.2222222222222222,
              "#7201a8"
             ],
             [
              0.3333333333333333,
              "#9c179e"
             ],
             [
              0.4444444444444444,
              "#bd3786"
             ],
             [
              0.5555555555555556,
              "#d8576b"
             ],
             [
              0.6666666666666666,
              "#ed7953"
             ],
             [
              0.7777777777777778,
              "#fb9f3a"
             ],
             [
              0.8888888888888888,
              "#fdca26"
             ],
             [
              1,
              "#f0f921"
             ]
            ],
            "type": "contour"
           }
          ],
          "contourcarpet": [
           {
            "colorbar": {
             "outlinewidth": 0,
             "ticks": ""
            },
            "type": "contourcarpet"
           }
          ],
          "heatmap": [
           {
            "colorbar": {
             "outlinewidth": 0,
             "ticks": ""
            },
            "colorscale": [
             [
              0,
              "#0d0887"
             ],
             [
              0.1111111111111111,
              "#46039f"
             ],
             [
              0.2222222222222222,
              "#7201a8"
             ],
             [
              0.3333333333333333,
              "#9c179e"
             ],
             [
              0.4444444444444444,
              "#bd3786"
             ],
             [
              0.5555555555555556,
              "#d8576b"
             ],
             [
              0.6666666666666666,
              "#ed7953"
             ],
             [
              0.7777777777777778,
              "#fb9f3a"
             ],
             [
              0.8888888888888888,
              "#fdca26"
             ],
             [
              1,
              "#f0f921"
             ]
            ],
            "type": "heatmap"
           }
          ],
          "histogram": [
           {
            "marker": {
             "pattern": {
              "fillmode": "overlay",
              "size": 10,
              "solidity": 0.2
             }
            },
            "type": "histogram"
           }
          ],
          "histogram2d": [
           {
            "colorbar": {
             "outlinewidth": 0,
             "ticks": ""
            },
            "colorscale": [
             [
              0,
              "#0d0887"
             ],
             [
              0.1111111111111111,
              "#46039f"
             ],
             [
              0.2222222222222222,
              "#7201a8"
             ],
             [
              0.3333333333333333,
              "#9c179e"
             ],
             [
              0.4444444444444444,
              "#bd3786"
             ],
             [
              0.5555555555555556,
              "#d8576b"
             ],
             [
              0.6666666666666666,
              "#ed7953"
             ],
             [
              0.7777777777777778,
              "#fb9f3a"
             ],
             [
              0.8888888888888888,
              "#fdca26"
             ],
             [
              1,
              "#f0f921"
             ]
            ],
            "type": "histogram2d"
           }
          ],
          "histogram2dcontour": [
           {
            "colorbar": {
             "outlinewidth": 0,
             "ticks": ""
            },
            "colorscale": [
             [
              0,
              "#0d0887"
             ],
             [
              0.1111111111111111,
              "#46039f"
             ],
             [
              0.2222222222222222,
              "#7201a8"
             ],
             [
              0.3333333333333333,
              "#9c179e"
             ],
             [
              0.4444444444444444,
              "#bd3786"
             ],
             [
              0.5555555555555556,
              "#d8576b"
             ],
             [
              0.6666666666666666,
              "#ed7953"
             ],
             [
              0.7777777777777778,
              "#fb9f3a"
             ],
             [
              0.8888888888888888,
              "#fdca26"
             ],
             [
              1,
              "#f0f921"
             ]
            ],
            "type": "histogram2dcontour"
           }
          ],
          "mesh3d": [
           {
            "colorbar": {
             "outlinewidth": 0,
             "ticks": ""
            },
            "type": "mesh3d"
           }
          ],
          "parcoords": [
           {
            "line": {
             "colorbar": {
              "outlinewidth": 0,
              "ticks": ""
             }
            },
            "type": "parcoords"
           }
          ],
          "pie": [
           {
            "automargin": true,
            "type": "pie"
           }
          ],
          "scatter": [
           {
            "marker": {
             "line": {
              "color": "#283442"
             }
            },
            "type": "scatter"
           }
          ],
          "scatter3d": [
           {
            "line": {
             "colorbar": {
              "outlinewidth": 0,
              "ticks": ""
             }
            },
            "marker": {
             "colorbar": {
              "outlinewidth": 0,
              "ticks": ""
             }
            },
            "type": "scatter3d"
           }
          ],
          "scattercarpet": [
           {
            "marker": {
             "colorbar": {
              "outlinewidth": 0,
              "ticks": ""
             }
            },
            "type": "scattercarpet"
           }
          ],
          "scattergeo": [
           {
            "marker": {
             "colorbar": {
              "outlinewidth": 0,
              "ticks": ""
             }
            },
            "type": "scattergeo"
           }
          ],
          "scattergl": [
           {
            "marker": {
             "line": {
              "color": "#283442"
             }
            },
            "type": "scattergl"
           }
          ],
          "scattermap": [
           {
            "marker": {
             "colorbar": {
              "outlinewidth": 0,
              "ticks": ""
             }
            },
            "type": "scattermap"
           }
          ],
          "scattermapbox": [
           {
            "marker": {
             "colorbar": {
              "outlinewidth": 0,
              "ticks": ""
             }
            },
            "type": "scattermapbox"
           }
          ],
          "scatterpolar": [
           {
            "marker": {
             "colorbar": {
              "outlinewidth": 0,
              "ticks": ""
             }
            },
            "type": "scatterpolar"
           }
          ],
          "scatterpolargl": [
           {
            "marker": {
             "colorbar": {
              "outlinewidth": 0,
              "ticks": ""
             }
            },
            "type": "scatterpolargl"
           }
          ],
          "scatterternary": [
           {
            "marker": {
             "colorbar": {
              "outlinewidth": 0,
              "ticks": ""
             }
            },
            "type": "scatterternary"
           }
          ],
          "surface": [
           {
            "colorbar": {
             "outlinewidth": 0,
             "ticks": ""
            },
            "colorscale": [
             [
              0,
              "#0d0887"
             ],
             [
              0.1111111111111111,
              "#46039f"
             ],
             [
              0.2222222222222222,
              "#7201a8"
             ],
             [
              0.3333333333333333,
              "#9c179e"
             ],
             [
              0.4444444444444444,
              "#bd3786"
             ],
             [
              0.5555555555555556,
              "#d8576b"
             ],
             [
              0.6666666666666666,
              "#ed7953"
             ],
             [
              0.7777777777777778,
              "#fb9f3a"
             ],
             [
              0.8888888888888888,
              "#fdca26"
             ],
             [
              1,
              "#f0f921"
             ]
            ],
            "type": "surface"
           }
          ],
          "table": [
           {
            "cells": {
             "fill": {
              "color": "#506784"
             },
             "line": {
              "color": "rgb(17,17,17)"
             }
            },
            "header": {
             "fill": {
              "color": "#2a3f5f"
             },
             "line": {
              "color": "rgb(17,17,17)"
             }
            },
            "type": "table"
           }
          ]
         },
         "layout": {
          "annotationdefaults": {
           "arrowcolor": "#f2f5fa",
           "arrowhead": 0,
           "arrowwidth": 1
          },
          "autotypenumbers": "strict",
          "coloraxis": {
           "colorbar": {
            "outlinewidth": 0,
            "ticks": ""
           }
          },
          "colorscale": {
           "diverging": [
            [
             0,
             "#8e0152"
            ],
            [
             0.1,
             "#c51b7d"
            ],
            [
             0.2,
             "#de77ae"
            ],
            [
             0.3,
             "#f1b6da"
            ],
            [
             0.4,
             "#fde0ef"
            ],
            [
             0.5,
             "#f7f7f7"
            ],
            [
             0.6,
             "#e6f5d0"
            ],
            [
             0.7,
             "#b8e186"
            ],
            [
             0.8,
             "#7fbc41"
            ],
            [
             0.9,
             "#4d9221"
            ],
            [
             1,
             "#276419"
            ]
           ],
           "sequential": [
            [
             0,
             "#0d0887"
            ],
            [
             0.1111111111111111,
             "#46039f"
            ],
            [
             0.2222222222222222,
             "#7201a8"
            ],
            [
             0.3333333333333333,
             "#9c179e"
            ],
            [
             0.4444444444444444,
             "#bd3786"
            ],
            [
             0.5555555555555556,
             "#d8576b"
            ],
            [
             0.6666666666666666,
             "#ed7953"
            ],
            [
             0.7777777777777778,
             "#fb9f3a"
            ],
            [
             0.8888888888888888,
             "#fdca26"
            ],
            [
             1,
             "#f0f921"
            ]
           ],
           "sequentialminus": [
            [
             0,
             "#0d0887"
            ],
            [
             0.1111111111111111,
             "#46039f"
            ],
            [
             0.2222222222222222,
             "#7201a8"
            ],
            [
             0.3333333333333333,
             "#9c179e"
            ],
            [
             0.4444444444444444,
             "#bd3786"
            ],
            [
             0.5555555555555556,
             "#d8576b"
            ],
            [
             0.6666666666666666,
             "#ed7953"
            ],
            [
             0.7777777777777778,
             "#fb9f3a"
            ],
            [
             0.8888888888888888,
             "#fdca26"
            ],
            [
             1,
             "#f0f921"
            ]
           ]
          },
          "colorway": [
           "#636efa",
           "#EF553B",
           "#00cc96",
           "#ab63fa",
           "#FFA15A",
           "#19d3f3",
           "#FF6692",
           "#B6E880",
           "#FF97FF",
           "#FECB52"
          ],
          "font": {
           "color": "#f2f5fa"
          },
          "geo": {
           "bgcolor": "rgb(17,17,17)",
           "lakecolor": "rgb(17,17,17)",
           "landcolor": "rgb(17,17,17)",
           "showlakes": true,
           "showland": true,
           "subunitcolor": "#506784"
          },
          "hoverlabel": {
           "align": "left"
          },
          "hovermode": "closest",
          "mapbox": {
           "style": "dark"
          },
          "paper_bgcolor": "rgb(17,17,17)",
          "plot_bgcolor": "rgb(17,17,17)",
          "polar": {
           "angularaxis": {
            "gridcolor": "#506784",
            "linecolor": "#506784",
            "ticks": ""
           },
           "bgcolor": "rgb(17,17,17)",
           "radialaxis": {
            "gridcolor": "#506784",
            "linecolor": "#506784",
            "ticks": ""
           }
          },
          "scene": {
           "xaxis": {
            "backgroundcolor": "rgb(17,17,17)",
            "gridcolor": "#506784",
            "gridwidth": 2,
            "linecolor": "#506784",
            "showbackground": true,
            "ticks": "",
            "zerolinecolor": "#C8D4E3"
           },
           "yaxis": {
            "backgroundcolor": "rgb(17,17,17)",
            "gridcolor": "#506784",
            "gridwidth": 2,
            "linecolor": "#506784",
            "showbackground": true,
            "ticks": "",
            "zerolinecolor": "#C8D4E3"
           },
           "zaxis": {
            "backgroundcolor": "rgb(17,17,17)",
            "gridcolor": "#506784",
            "gridwidth": 2,
            "linecolor": "#506784",
            "showbackground": true,
            "ticks": "",
            "zerolinecolor": "#C8D4E3"
           }
          },
          "shapedefaults": {
           "line": {
            "color": "#f2f5fa"
           }
          },
          "sliderdefaults": {
           "bgcolor": "#C8D4E3",
           "bordercolor": "rgb(17,17,17)",
           "borderwidth": 1,
           "tickwidth": 0
          },
          "ternary": {
           "aaxis": {
            "gridcolor": "#506784",
            "linecolor": "#506784",
            "ticks": ""
           },
           "baxis": {
            "gridcolor": "#506784",
            "linecolor": "#506784",
            "ticks": ""
           },
           "bgcolor": "rgb(17,17,17)",
           "caxis": {
            "gridcolor": "#506784",
            "linecolor": "#506784",
            "ticks": ""
           }
          },
          "title": {
           "x": 0.05
          },
          "updatemenudefaults": {
           "bgcolor": "#506784",
           "borderwidth": 0
          },
          "xaxis": {
           "automargin": true,
           "gridcolor": "#283442",
           "linecolor": "#506784",
           "ticks": "",
           "title": {
            "standoff": 15
           },
           "zerolinecolor": "#283442",
           "zerolinewidth": 2
          },
          "yaxis": {
           "automargin": true,
           "gridcolor": "#283442",
           "linecolor": "#506784",
           "ticks": "",
           "title": {
            "standoff": 15
           },
           "zerolinecolor": "#283442",
           "zerolinewidth": 2
          }
         }
        },
        "title": {
         "text": "TCN"
        },
        "width": 1000,
        "xaxis": {
         "title": {
          "text": "Time Index"
         }
        },
        "yaxis": {
         "title": {
          "text": "Energy Consumption (MW)"
         }
        }
       }
      }
     },
     "metadata": {},
     "output_type": "display_data"
    },
    {
     "name": "stdout",
     "output_type": "stream",
     "text": [
      "CPU times: user 3min 20s, sys: 28.6 s, total: 3min 48s\n",
      "Wall time: 4min 23s\n"
     ]
    }
   ],
   "source": [
    "%%time\n",
    "\n",
    "import torch\n",
    "from models.tcn import TCN_ECF\n",
    "from utils.training_utils import set_seed, train, evaluate\n",
    "from sklearn.metrics import mean_absolute_error, root_mean_squared_error\n",
    "from utils.visualization_utils import plot_actual_vs_pred\n",
    "\n",
    "set_seed(42)\n",
    "\n",
    "tcn_model = TCN_ECF(\n",
    "    input_size=X_train.shape[2], num_channels=[64] * 4, kernel_size=5, dropout=0.3\n",
    ")\n",
    "\n",
    "tcn_model = train(\n",
    "    tcn_model,\n",
    "    train_loader=train_dl,\n",
    "    val_loader=val_dl,\n",
    "    optimizer=torch.optim.Adam(tcn_model.parameters(), lr=1e-3),\n",
    "    loss_fn=torch.nn.MSELoss(),\n",
    "    num_epochs=30,\n",
    "    patience=3,\n",
    "    device=device,\n",
    ")\n",
    "\n",
    "tcn_y_true, tcn_y_pred = evaluate(tcn_model, test_dl, device)\n",
    "tcn_y_true = target_scaler.inverse_transform(tcn_y_true.reshape(-1, 1)).flatten()\n",
    "tcn_y_pred = target_scaler.inverse_transform(tcn_y_pred.reshape(-1, 1)).flatten()\n",
    "\n",
    "tcn_mae = mean_absolute_error(tcn_y_true, tcn_y_pred)\n",
    "tcn_rmse = root_mean_squared_error(tcn_y_true, tcn_y_pred)\n",
    "\n",
    "print(f\"[TCN] Test MAE: {tcn_mae:.2f}\")\n",
    "print(f\"[TCN] Test RMSE: {tcn_rmse:.2f}\")\n",
    "\n",
    "plot_actual_vs_pred(tcn_y_true, tcn_y_pred, title=\"TCN\")"
   ]
  },
  {
   "cell_type": "markdown",
   "metadata": {},
   "source": [
    "**TCN improves forecasts compared to LSTM.**"
   ]
  },
  {
   "cell_type": "markdown",
   "metadata": {},
   "source": [
    "### Transformer\n",
    "Transformers are attention-based models originally developed for natural language processing, however, they have proven effective for time series tasks. A transformer uses the self-attention mechanisms to weigh the importance of each timestep in the input sequence, which enables them to model both short- and long-range dependencies efficiently. Also, a transformer processes the entire sequence in parallel and is not limited by step-by-step recurrence or fixed convolutional windows."
   ]
  },
  {
   "cell_type": "code",
   "execution_count": 17,
   "metadata": {},
   "outputs": [
    {
     "name": "stderr",
     "output_type": "stream",
     "text": [
      "Epoch 01: 100%|██████████| 794/794 [00:13<00:00, 59.50it/s]\n"
     ]
    },
    {
     "name": "stdout",
     "output_type": "stream",
     "text": [
      "Epoch 01 | Train Loss: 0.0728 | Val Loss: 0.0378\n"
     ]
    },
    {
     "name": "stderr",
     "output_type": "stream",
     "text": [
      "Epoch 02: 100%|██████████| 794/794 [00:13<00:00, 58.70it/s]\n"
     ]
    },
    {
     "name": "stdout",
     "output_type": "stream",
     "text": [
      "Epoch 02 | Train Loss: 0.0367 | Val Loss: 0.0312\n"
     ]
    },
    {
     "name": "stderr",
     "output_type": "stream",
     "text": [
      "Epoch 03: 100%|██████████| 794/794 [00:13<00:00, 60.47it/s]\n"
     ]
    },
    {
     "name": "stdout",
     "output_type": "stream",
     "text": [
      "Epoch 03 | Train Loss: 0.0309 | Val Loss: 0.0282\n"
     ]
    },
    {
     "name": "stderr",
     "output_type": "stream",
     "text": [
      "Epoch 04: 100%|██████████| 794/794 [00:13<00:00, 60.24it/s]\n"
     ]
    },
    {
     "name": "stdout",
     "output_type": "stream",
     "text": [
      "Epoch 04 | Train Loss: 0.0278 | Val Loss: 0.0259\n"
     ]
    },
    {
     "name": "stderr",
     "output_type": "stream",
     "text": [
      "Epoch 05: 100%|██████████| 794/794 [00:13<00:00, 60.66it/s]\n"
     ]
    },
    {
     "name": "stdout",
     "output_type": "stream",
     "text": [
      "Epoch 05 | Train Loss: 0.0257 | Val Loss: 0.0242\n"
     ]
    },
    {
     "name": "stderr",
     "output_type": "stream",
     "text": [
      "Epoch 06: 100%|██████████| 794/794 [00:13<00:00, 60.82it/s]\n"
     ]
    },
    {
     "name": "stdout",
     "output_type": "stream",
     "text": [
      "Epoch 06 | Train Loss: 0.0239 | Val Loss: 0.0238\n"
     ]
    },
    {
     "name": "stderr",
     "output_type": "stream",
     "text": [
      "Epoch 07: 100%|██████████| 794/794 [00:13<00:00, 59.54it/s]\n"
     ]
    },
    {
     "name": "stdout",
     "output_type": "stream",
     "text": [
      "Epoch 07 | Train Loss: 0.0222 | Val Loss: 0.0216\n"
     ]
    },
    {
     "name": "stderr",
     "output_type": "stream",
     "text": [
      "Epoch 08: 100%|██████████| 794/794 [00:13<00:00, 57.81it/s]\n"
     ]
    },
    {
     "name": "stdout",
     "output_type": "stream",
     "text": [
      "Epoch 08 | Train Loss: 0.0207 | Val Loss: 0.0201\n"
     ]
    },
    {
     "name": "stderr",
     "output_type": "stream",
     "text": [
      "Epoch 09: 100%|██████████| 794/794 [00:13<00:00, 58.57it/s]\n"
     ]
    },
    {
     "name": "stdout",
     "output_type": "stream",
     "text": [
      "Epoch 09 | Train Loss: 0.0193 | Val Loss: 0.0200\n"
     ]
    },
    {
     "name": "stderr",
     "output_type": "stream",
     "text": [
      "Epoch 10: 100%|██████████| 794/794 [00:13<00:00, 59.77it/s]\n"
     ]
    },
    {
     "name": "stdout",
     "output_type": "stream",
     "text": [
      "Epoch 10 | Train Loss: 0.0181 | Val Loss: 0.0205\n"
     ]
    },
    {
     "name": "stderr",
     "output_type": "stream",
     "text": [
      "Epoch 11: 100%|██████████| 794/794 [00:13<00:00, 59.39it/s]\n"
     ]
    },
    {
     "name": "stdout",
     "output_type": "stream",
     "text": [
      "Epoch 11 | Train Loss: 0.0171 | Val Loss: 0.0175\n"
     ]
    },
    {
     "name": "stderr",
     "output_type": "stream",
     "text": [
      "Epoch 12: 100%|██████████| 794/794 [00:13<00:00, 59.57it/s]\n"
     ]
    },
    {
     "name": "stdout",
     "output_type": "stream",
     "text": [
      "Epoch 12 | Train Loss: 0.0160 | Val Loss: 0.0164\n"
     ]
    },
    {
     "name": "stderr",
     "output_type": "stream",
     "text": [
      "Epoch 13: 100%|██████████| 794/794 [00:13<00:00, 59.73it/s]\n"
     ]
    },
    {
     "name": "stdout",
     "output_type": "stream",
     "text": [
      "Epoch 13 | Train Loss: 0.0152 | Val Loss: 0.0168\n"
     ]
    },
    {
     "name": "stderr",
     "output_type": "stream",
     "text": [
      "Epoch 14: 100%|██████████| 794/794 [00:13<00:00, 59.42it/s]\n"
     ]
    },
    {
     "name": "stdout",
     "output_type": "stream",
     "text": [
      "Epoch 14 | Train Loss: 0.0147 | Val Loss: 0.0153\n"
     ]
    },
    {
     "name": "stderr",
     "output_type": "stream",
     "text": [
      "Epoch 15: 100%|██████████| 794/794 [00:13<00:00, 59.15it/s]\n"
     ]
    },
    {
     "name": "stdout",
     "output_type": "stream",
     "text": [
      "Epoch 15 | Train Loss: 0.0142 | Val Loss: 0.0153\n"
     ]
    },
    {
     "name": "stderr",
     "output_type": "stream",
     "text": [
      "Epoch 16: 100%|██████████| 794/794 [00:13<00:00, 59.28it/s]\n"
     ]
    },
    {
     "name": "stdout",
     "output_type": "stream",
     "text": [
      "Epoch 16 | Train Loss: 0.0139 | Val Loss: 0.0153\n"
     ]
    },
    {
     "name": "stderr",
     "output_type": "stream",
     "text": [
      "Epoch 17: 100%|██████████| 794/794 [00:13<00:00, 59.55it/s]\n"
     ]
    },
    {
     "name": "stdout",
     "output_type": "stream",
     "text": [
      "Epoch 17 | Train Loss: 0.0137 | Val Loss: 0.0142\n"
     ]
    },
    {
     "name": "stderr",
     "output_type": "stream",
     "text": [
      "Epoch 18: 100%|██████████| 794/794 [00:13<00:00, 58.23it/s]\n"
     ]
    },
    {
     "name": "stdout",
     "output_type": "stream",
     "text": [
      "Epoch 18 | Train Loss: 0.0133 | Val Loss: 0.0157\n"
     ]
    },
    {
     "name": "stderr",
     "output_type": "stream",
     "text": [
      "Epoch 19: 100%|██████████| 794/794 [00:14<00:00, 55.93it/s]\n"
     ]
    },
    {
     "name": "stdout",
     "output_type": "stream",
     "text": [
      "Epoch 19 | Train Loss: 0.0131 | Val Loss: 0.0161\n"
     ]
    },
    {
     "name": "stderr",
     "output_type": "stream",
     "text": [
      "Epoch 20: 100%|██████████| 794/794 [00:13<00:00, 59.11it/s]\n"
     ]
    },
    {
     "name": "stdout",
     "output_type": "stream",
     "text": [
      "Epoch 20 | Train Loss: 0.0126 | Val Loss: 0.0142\n",
      "Early stopping triggered at epoch 20\n",
      "[TF] Test MAE: 603.12\n",
      "[TF] Test RMSE: 837.75\n"
     ]
    },
    {
     "data": {
      "application/vnd.plotly.v1+json": {
       "config": {
        "plotlyServerURL": "https://plot.ly"
       },
       "data": [
        {
         "line": {
          "color": "deepskyblue",
          "width": 2
         },
         "mode": "lines",
         "name": "Actual",
         "opacity": 0.8,
         "type": "scatter",
         "x": [
          0,
          1,
          2,
          3,
          4,
          5,
          6,
          7,
          8,
          9,
          10,
          11,
          12,
          13,
          14,
          15,
          16,
          17,
          18,
          19,
          20,
          21,
          22,
          23,
          24,
          25,
          26,
          27,
          28,
          29,
          30,
          31,
          32,
          33,
          34,
          35,
          36,
          37,
          38,
          39,
          40,
          41,
          42,
          43,
          44,
          45,
          46,
          47,
          48,
          49,
          50,
          51,
          52,
          53,
          54,
          55,
          56,
          57,
          58,
          59,
          60,
          61,
          62,
          63,
          64,
          65,
          66,
          67,
          68,
          69,
          70,
          71,
          72,
          73,
          74,
          75,
          76,
          77,
          78,
          79,
          80,
          81,
          82,
          83,
          84,
          85,
          86,
          87,
          88,
          89,
          90,
          91,
          92,
          93,
          94,
          95,
          96,
          97,
          98,
          99,
          100,
          101,
          102,
          103,
          104,
          105,
          106,
          107,
          108,
          109,
          110,
          111,
          112,
          113,
          114,
          115,
          116,
          117,
          118,
          119,
          120,
          121,
          122,
          123,
          124,
          125,
          126,
          127,
          128,
          129,
          130,
          131,
          132,
          133,
          134,
          135,
          136,
          137,
          138,
          139,
          140,
          141,
          142,
          143,
          144,
          145,
          146,
          147,
          148,
          149,
          150,
          151,
          152,
          153,
          154,
          155,
          156,
          157,
          158,
          159,
          160,
          161,
          162,
          163,
          164,
          165,
          166,
          167,
          168,
          169,
          170,
          171,
          172,
          173,
          174,
          175,
          176,
          177,
          178,
          179,
          180,
          181,
          182,
          183,
          184,
          185,
          186,
          187,
          188,
          189,
          190,
          191,
          192,
          193,
          194,
          195,
          196,
          197,
          198,
          199,
          200,
          201,
          202,
          203,
          204,
          205,
          206,
          207,
          208,
          209,
          210,
          211,
          212,
          213,
          214,
          215,
          216,
          217,
          218,
          219,
          220,
          221,
          222,
          223,
          224,
          225,
          226,
          227,
          228,
          229,
          230,
          231,
          232,
          233,
          234,
          235,
          236,
          237,
          238,
          239,
          240,
          241,
          242,
          243,
          244,
          245,
          246,
          247,
          248,
          249,
          250,
          251,
          252,
          253,
          254,
          255,
          256,
          257,
          258,
          259,
          260,
          261,
          262,
          263,
          264,
          265,
          266,
          267,
          268,
          269,
          270,
          271,
          272,
          273,
          274,
          275,
          276,
          277,
          278,
          279,
          280,
          281,
          282,
          283,
          284,
          285,
          286,
          287,
          288,
          289,
          290,
          291,
          292,
          293,
          294,
          295,
          296,
          297,
          298,
          299,
          300,
          301,
          302,
          303,
          304,
          305,
          306,
          307,
          308,
          309,
          310,
          311,
          312,
          313,
          314,
          315,
          316,
          317,
          318,
          319,
          320,
          321,
          322,
          323,
          324,
          325,
          326,
          327,
          328,
          329,
          330,
          331,
          332,
          333,
          334,
          335,
          336,
          337,
          338,
          339,
          340,
          341,
          342,
          343,
          344,
          345,
          346,
          347,
          348,
          349,
          350,
          351,
          352,
          353,
          354,
          355,
          356,
          357,
          358,
          359,
          360,
          361,
          362,
          363,
          364,
          365,
          366,
          367,
          368,
          369,
          370,
          371,
          372,
          373,
          374,
          375,
          376,
          377,
          378,
          379,
          380,
          381,
          382,
          383,
          384,
          385,
          386,
          387,
          388,
          389,
          390,
          391,
          392,
          393,
          394,
          395,
          396,
          397,
          398,
          399,
          400,
          401,
          402,
          403,
          404,
          405,
          406,
          407,
          408,
          409,
          410,
          411,
          412,
          413,
          414,
          415,
          416,
          417,
          418,
          419,
          420,
          421,
          422,
          423,
          424,
          425,
          426,
          427,
          428,
          429,
          430,
          431,
          432,
          433,
          434,
          435,
          436,
          437,
          438,
          439,
          440,
          441,
          442,
          443,
          444,
          445,
          446,
          447,
          448,
          449,
          450,
          451,
          452,
          453,
          454,
          455,
          456,
          457,
          458,
          459,
          460,
          461,
          462,
          463,
          464,
          465,
          466,
          467,
          468,
          469,
          470,
          471,
          472,
          473,
          474,
          475,
          476,
          477,
          478,
          479,
          480,
          481,
          482,
          483,
          484,
          485,
          486,
          487,
          488,
          489,
          490,
          491,
          492,
          493,
          494,
          495,
          496,
          497,
          498,
          499
         ],
         "y": {
          "bdata": "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",
          "dtype": "f4"
         }
        },
        {
         "line": {
          "color": "magenta",
          "dash": "dot",
          "width": 2
         },
         "mode": "lines",
         "name": "Predicted",
         "opacity": 0.7,
         "type": "scatter",
         "x": [
          0,
          1,
          2,
          3,
          4,
          5,
          6,
          7,
          8,
          9,
          10,
          11,
          12,
          13,
          14,
          15,
          16,
          17,
          18,
          19,
          20,
          21,
          22,
          23,
          24,
          25,
          26,
          27,
          28,
          29,
          30,
          31,
          32,
          33,
          34,
          35,
          36,
          37,
          38,
          39,
          40,
          41,
          42,
          43,
          44,
          45,
          46,
          47,
          48,
          49,
          50,
          51,
          52,
          53,
          54,
          55,
          56,
          57,
          58,
          59,
          60,
          61,
          62,
          63,
          64,
          65,
          66,
          67,
          68,
          69,
          70,
          71,
          72,
          73,
          74,
          75,
          76,
          77,
          78,
          79,
          80,
          81,
          82,
          83,
          84,
          85,
          86,
          87,
          88,
          89,
          90,
          91,
          92,
          93,
          94,
          95,
          96,
          97,
          98,
          99,
          100,
          101,
          102,
          103,
          104,
          105,
          106,
          107,
          108,
          109,
          110,
          111,
          112,
          113,
          114,
          115,
          116,
          117,
          118,
          119,
          120,
          121,
          122,
          123,
          124,
          125,
          126,
          127,
          128,
          129,
          130,
          131,
          132,
          133,
          134,
          135,
          136,
          137,
          138,
          139,
          140,
          141,
          142,
          143,
          144,
          145,
          146,
          147,
          148,
          149,
          150,
          151,
          152,
          153,
          154,
          155,
          156,
          157,
          158,
          159,
          160,
          161,
          162,
          163,
          164,
          165,
          166,
          167,
          168,
          169,
          170,
          171,
          172,
          173,
          174,
          175,
          176,
          177,
          178,
          179,
          180,
          181,
          182,
          183,
          184,
          185,
          186,
          187,
          188,
          189,
          190,
          191,
          192,
          193,
          194,
          195,
          196,
          197,
          198,
          199,
          200,
          201,
          202,
          203,
          204,
          205,
          206,
          207,
          208,
          209,
          210,
          211,
          212,
          213,
          214,
          215,
          216,
          217,
          218,
          219,
          220,
          221,
          222,
          223,
          224,
          225,
          226,
          227,
          228,
          229,
          230,
          231,
          232,
          233,
          234,
          235,
          236,
          237,
          238,
          239,
          240,
          241,
          242,
          243,
          244,
          245,
          246,
          247,
          248,
          249,
          250,
          251,
          252,
          253,
          254,
          255,
          256,
          257,
          258,
          259,
          260,
          261,
          262,
          263,
          264,
          265,
          266,
          267,
          268,
          269,
          270,
          271,
          272,
          273,
          274,
          275,
          276,
          277,
          278,
          279,
          280,
          281,
          282,
          283,
          284,
          285,
          286,
          287,
          288,
          289,
          290,
          291,
          292,
          293,
          294,
          295,
          296,
          297,
          298,
          299,
          300,
          301,
          302,
          303,
          304,
          305,
          306,
          307,
          308,
          309,
          310,
          311,
          312,
          313,
          314,
          315,
          316,
          317,
          318,
          319,
          320,
          321,
          322,
          323,
          324,
          325,
          326,
          327,
          328,
          329,
          330,
          331,
          332,
          333,
          334,
          335,
          336,
          337,
          338,
          339,
          340,
          341,
          342,
          343,
          344,
          345,
          346,
          347,
          348,
          349,
          350,
          351,
          352,
          353,
          354,
          355,
          356,
          357,
          358,
          359,
          360,
          361,
          362,
          363,
          364,
          365,
          366,
          367,
          368,
          369,
          370,
          371,
          372,
          373,
          374,
          375,
          376,
          377,
          378,
          379,
          380,
          381,
          382,
          383,
          384,
          385,
          386,
          387,
          388,
          389,
          390,
          391,
          392,
          393,
          394,
          395,
          396,
          397,
          398,
          399,
          400,
          401,
          402,
          403,
          404,
          405,
          406,
          407,
          408,
          409,
          410,
          411,
          412,
          413,
          414,
          415,
          416,
          417,
          418,
          419,
          420,
          421,
          422,
          423,
          424,
          425,
          426,
          427,
          428,
          429,
          430,
          431,
          432,
          433,
          434,
          435,
          436,
          437,
          438,
          439,
          440,
          441,
          442,
          443,
          444,
          445,
          446,
          447,
          448,
          449,
          450,
          451,
          452,
          453,
          454,
          455,
          456,
          457,
          458,
          459,
          460,
          461,
          462,
          463,
          464,
          465,
          466,
          467,
          468,
          469,
          470,
          471,
          472,
          473,
          474,
          475,
          476,
          477,
          478,
          479,
          480,
          481,
          482,
          483,
          484,
          485,
          486,
          487,
          488,
          489,
          490,
          491,
          492,
          493,
          494,
          495,
          496,
          497,
          498,
          499
         ],
         "y": {
          "bdata": "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",
          "dtype": "f4"
         }
        }
       ],
       "layout": {
        "font": {
         "color": "white"
        },
        "height": 500,
        "legend": {
         "x": 0,
         "y": 1
        },
        "paper_bgcolor": "black",
        "plot_bgcolor": "black",
        "template": {
         "data": {
          "bar": [
           {
            "error_x": {
             "color": "#f2f5fa"
            },
            "error_y": {
             "color": "#f2f5fa"
            },
            "marker": {
             "line": {
              "color": "rgb(17,17,17)",
              "width": 0.5
             },
             "pattern": {
              "fillmode": "overlay",
              "size": 10,
              "solidity": 0.2
             }
            },
            "type": "bar"
           }
          ],
          "barpolar": [
           {
            "marker": {
             "line": {
              "color": "rgb(17,17,17)",
              "width": 0.5
             },
             "pattern": {
              "fillmode": "overlay",
              "size": 10,
              "solidity": 0.2
             }
            },
            "type": "barpolar"
           }
          ],
          "carpet": [
           {
            "aaxis": {
             "endlinecolor": "#A2B1C6",
             "gridcolor": "#506784",
             "linecolor": "#506784",
             "minorgridcolor": "#506784",
             "startlinecolor": "#A2B1C6"
            },
            "baxis": {
             "endlinecolor": "#A2B1C6",
             "gridcolor": "#506784",
             "linecolor": "#506784",
             "minorgridcolor": "#506784",
             "startlinecolor": "#A2B1C6"
            },
            "type": "carpet"
           }
          ],
          "choropleth": [
           {
            "colorbar": {
             "outlinewidth": 0,
             "ticks": ""
            },
            "type": "choropleth"
           }
          ],
          "contour": [
           {
            "colorbar": {
             "outlinewidth": 0,
             "ticks": ""
            },
            "colorscale": [
             [
              0,
              "#0d0887"
             ],
             [
              0.1111111111111111,
              "#46039f"
             ],
             [
              0.2222222222222222,
              "#7201a8"
             ],
             [
              0.3333333333333333,
              "#9c179e"
             ],
             [
              0.4444444444444444,
              "#bd3786"
             ],
             [
              0.5555555555555556,
              "#d8576b"
             ],
             [
              0.6666666666666666,
              "#ed7953"
             ],
             [
              0.7777777777777778,
              "#fb9f3a"
             ],
             [
              0.8888888888888888,
              "#fdca26"
             ],
             [
              1,
              "#f0f921"
             ]
            ],
            "type": "contour"
           }
          ],
          "contourcarpet": [
           {
            "colorbar": {
             "outlinewidth": 0,
             "ticks": ""
            },
            "type": "contourcarpet"
           }
          ],
          "heatmap": [
           {
            "colorbar": {
             "outlinewidth": 0,
             "ticks": ""
            },
            "colorscale": [
             [
              0,
              "#0d0887"
             ],
             [
              0.1111111111111111,
              "#46039f"
             ],
             [
              0.2222222222222222,
              "#7201a8"
             ],
             [
              0.3333333333333333,
              "#9c179e"
             ],
             [
              0.4444444444444444,
              "#bd3786"
             ],
             [
              0.5555555555555556,
              "#d8576b"
             ],
             [
              0.6666666666666666,
              "#ed7953"
             ],
             [
              0.7777777777777778,
              "#fb9f3a"
             ],
             [
              0.8888888888888888,
              "#fdca26"
             ],
             [
              1,
              "#f0f921"
             ]
            ],
            "type": "heatmap"
           }
          ],
          "histogram": [
           {
            "marker": {
             "pattern": {
              "fillmode": "overlay",
              "size": 10,
              "solidity": 0.2
             }
            },
            "type": "histogram"
           }
          ],
          "histogram2d": [
           {
            "colorbar": {
             "outlinewidth": 0,
             "ticks": ""
            },
            "colorscale": [
             [
              0,
              "#0d0887"
             ],
             [
              0.1111111111111111,
              "#46039f"
             ],
             [
              0.2222222222222222,
              "#7201a8"
             ],
             [
              0.3333333333333333,
              "#9c179e"
             ],
             [
              0.4444444444444444,
              "#bd3786"
             ],
             [
              0.5555555555555556,
              "#d8576b"
             ],
             [
              0.6666666666666666,
              "#ed7953"
             ],
             [
              0.7777777777777778,
              "#fb9f3a"
             ],
             [
              0.8888888888888888,
              "#fdca26"
             ],
             [
              1,
              "#f0f921"
             ]
            ],
            "type": "histogram2d"
           }
          ],
          "histogram2dcontour": [
           {
            "colorbar": {
             "outlinewidth": 0,
             "ticks": ""
            },
            "colorscale": [
             [
              0,
              "#0d0887"
             ],
             [
              0.1111111111111111,
              "#46039f"
             ],
             [
              0.2222222222222222,
              "#7201a8"
             ],
             [
              0.3333333333333333,
              "#9c179e"
             ],
             [
              0.4444444444444444,
              "#bd3786"
             ],
             [
              0.5555555555555556,
              "#d8576b"
             ],
             [
              0.6666666666666666,
              "#ed7953"
             ],
             [
              0.7777777777777778,
              "#fb9f3a"
             ],
             [
              0.8888888888888888,
              "#fdca26"
             ],
             [
              1,
              "#f0f921"
             ]
            ],
            "type": "histogram2dcontour"
           }
          ],
          "mesh3d": [
           {
            "colorbar": {
             "outlinewidth": 0,
             "ticks": ""
            },
            "type": "mesh3d"
           }
          ],
          "parcoords": [
           {
            "line": {
             "colorbar": {
              "outlinewidth": 0,
              "ticks": ""
             }
            },
            "type": "parcoords"
           }
          ],
          "pie": [
           {
            "automargin": true,
            "type": "pie"
           }
          ],
          "scatter": [
           {
            "marker": {
             "line": {
              "color": "#283442"
             }
            },
            "type": "scatter"
           }
          ],
          "scatter3d": [
           {
            "line": {
             "colorbar": {
              "outlinewidth": 0,
              "ticks": ""
             }
            },
            "marker": {
             "colorbar": {
              "outlinewidth": 0,
              "ticks": ""
             }
            },
            "type": "scatter3d"
           }
          ],
          "scattercarpet": [
           {
            "marker": {
             "colorbar": {
              "outlinewidth": 0,
              "ticks": ""
             }
            },
            "type": "scattercarpet"
           }
          ],
          "scattergeo": [
           {
            "marker": {
             "colorbar": {
              "outlinewidth": 0,
              "ticks": ""
             }
            },
            "type": "scattergeo"
           }
          ],
          "scattergl": [
           {
            "marker": {
             "line": {
              "color": "#283442"
             }
            },
            "type": "scattergl"
           }
          ],
          "scattermap": [
           {
            "marker": {
             "colorbar": {
              "outlinewidth": 0,
              "ticks": ""
             }
            },
            "type": "scattermap"
           }
          ],
          "scattermapbox": [
           {
            "marker": {
             "colorbar": {
              "outlinewidth": 0,
              "ticks": ""
             }
            },
            "type": "scattermapbox"
           }
          ],
          "scatterpolar": [
           {
            "marker": {
             "colorbar": {
              "outlinewidth": 0,
              "ticks": ""
             }
            },
            "type": "scatterpolar"
           }
          ],
          "scatterpolargl": [
           {
            "marker": {
             "colorbar": {
              "outlinewidth": 0,
              "ticks": ""
             }
            },
            "type": "scatterpolargl"
           }
          ],
          "scatterternary": [
           {
            "marker": {
             "colorbar": {
              "outlinewidth": 0,
              "ticks": ""
             }
            },
            "type": "scatterternary"
           }
          ],
          "surface": [
           {
            "colorbar": {
             "outlinewidth": 0,
             "ticks": ""
            },
            "colorscale": [
             [
              0,
              "#0d0887"
             ],
             [
              0.1111111111111111,
              "#46039f"
             ],
             [
              0.2222222222222222,
              "#7201a8"
             ],
             [
              0.3333333333333333,
              "#9c179e"
             ],
             [
              0.4444444444444444,
              "#bd3786"
             ],
             [
              0.5555555555555556,
              "#d8576b"
             ],
             [
              0.6666666666666666,
              "#ed7953"
             ],
             [
              0.7777777777777778,
              "#fb9f3a"
             ],
             [
              0.8888888888888888,
              "#fdca26"
             ],
             [
              1,
              "#f0f921"
             ]
            ],
            "type": "surface"
           }
          ],
          "table": [
           {
            "cells": {
             "fill": {
              "color": "#506784"
             },
             "line": {
              "color": "rgb(17,17,17)"
             }
            },
            "header": {
             "fill": {
              "color": "#2a3f5f"
             },
             "line": {
              "color": "rgb(17,17,17)"
             }
            },
            "type": "table"
           }
          ]
         },
         "layout": {
          "annotationdefaults": {
           "arrowcolor": "#f2f5fa",
           "arrowhead": 0,
           "arrowwidth": 1
          },
          "autotypenumbers": "strict",
          "coloraxis": {
           "colorbar": {
            "outlinewidth": 0,
            "ticks": ""
           }
          },
          "colorscale": {
           "diverging": [
            [
             0,
             "#8e0152"
            ],
            [
             0.1,
             "#c51b7d"
            ],
            [
             0.2,
             "#de77ae"
            ],
            [
             0.3,
             "#f1b6da"
            ],
            [
             0.4,
             "#fde0ef"
            ],
            [
             0.5,
             "#f7f7f7"
            ],
            [
             0.6,
             "#e6f5d0"
            ],
            [
             0.7,
             "#b8e186"
            ],
            [
             0.8,
             "#7fbc41"
            ],
            [
             0.9,
             "#4d9221"
            ],
            [
             1,
             "#276419"
            ]
           ],
           "sequential": [
            [
             0,
             "#0d0887"
            ],
            [
             0.1111111111111111,
             "#46039f"
            ],
            [
             0.2222222222222222,
             "#7201a8"
            ],
            [
             0.3333333333333333,
             "#9c179e"
            ],
            [
             0.4444444444444444,
             "#bd3786"
            ],
            [
             0.5555555555555556,
             "#d8576b"
            ],
            [
             0.6666666666666666,
             "#ed7953"
            ],
            [
             0.7777777777777778,
             "#fb9f3a"
            ],
            [
             0.8888888888888888,
             "#fdca26"
            ],
            [
             1,
             "#f0f921"
            ]
           ],
           "sequentialminus": [
            [
             0,
             "#0d0887"
            ],
            [
             0.1111111111111111,
             "#46039f"
            ],
            [
             0.2222222222222222,
             "#7201a8"
            ],
            [
             0.3333333333333333,
             "#9c179e"
            ],
            [
             0.4444444444444444,
             "#bd3786"
            ],
            [
             0.5555555555555556,
             "#d8576b"
            ],
            [
             0.6666666666666666,
             "#ed7953"
            ],
            [
             0.7777777777777778,
             "#fb9f3a"
            ],
            [
             0.8888888888888888,
             "#fdca26"
            ],
            [
             1,
             "#f0f921"
            ]
           ]
          },
          "colorway": [
           "#636efa",
           "#EF553B",
           "#00cc96",
           "#ab63fa",
           "#FFA15A",
           "#19d3f3",
           "#FF6692",
           "#B6E880",
           "#FF97FF",
           "#FECB52"
          ],
          "font": {
           "color": "#f2f5fa"
          },
          "geo": {
           "bgcolor": "rgb(17,17,17)",
           "lakecolor": "rgb(17,17,17)",
           "landcolor": "rgb(17,17,17)",
           "showlakes": true,
           "showland": true,
           "subunitcolor": "#506784"
          },
          "hoverlabel": {
           "align": "left"
          },
          "hovermode": "closest",
          "mapbox": {
           "style": "dark"
          },
          "paper_bgcolor": "rgb(17,17,17)",
          "plot_bgcolor": "rgb(17,17,17)",
          "polar": {
           "angularaxis": {
            "gridcolor": "#506784",
            "linecolor": "#506784",
            "ticks": ""
           },
           "bgcolor": "rgb(17,17,17)",
           "radialaxis": {
            "gridcolor": "#506784",
            "linecolor": "#506784",
            "ticks": ""
           }
          },
          "scene": {
           "xaxis": {
            "backgroundcolor": "rgb(17,17,17)",
            "gridcolor": "#506784",
            "gridwidth": 2,
            "linecolor": "#506784",
            "showbackground": true,
            "ticks": "",
            "zerolinecolor": "#C8D4E3"
           },
           "yaxis": {
            "backgroundcolor": "rgb(17,17,17)",
            "gridcolor": "#506784",
            "gridwidth": 2,
            "linecolor": "#506784",
            "showbackground": true,
            "ticks": "",
            "zerolinecolor": "#C8D4E3"
           },
           "zaxis": {
            "backgroundcolor": "rgb(17,17,17)",
            "gridcolor": "#506784",
            "gridwidth": 2,
            "linecolor": "#506784",
            "showbackground": true,
            "ticks": "",
            "zerolinecolor": "#C8D4E3"
           }
          },
          "shapedefaults": {
           "line": {
            "color": "#f2f5fa"
           }
          },
          "sliderdefaults": {
           "bgcolor": "#C8D4E3",
           "bordercolor": "rgb(17,17,17)",
           "borderwidth": 1,
           "tickwidth": 0
          },
          "ternary": {
           "aaxis": {
            "gridcolor": "#506784",
            "linecolor": "#506784",
            "ticks": ""
           },
           "baxis": {
            "gridcolor": "#506784",
            "linecolor": "#506784",
            "ticks": ""
           },
           "bgcolor": "rgb(17,17,17)",
           "caxis": {
            "gridcolor": "#506784",
            "linecolor": "#506784",
            "ticks": ""
           }
          },
          "title": {
           "x": 0.05
          },
          "updatemenudefaults": {
           "bgcolor": "#506784",
           "borderwidth": 0
          },
          "xaxis": {
           "automargin": true,
           "gridcolor": "#283442",
           "linecolor": "#506784",
           "ticks": "",
           "title": {
            "standoff": 15
           },
           "zerolinecolor": "#283442",
           "zerolinewidth": 2
          },
          "yaxis": {
           "automargin": true,
           "gridcolor": "#283442",
           "linecolor": "#506784",
           "ticks": "",
           "title": {
            "standoff": 15
           },
           "zerolinecolor": "#283442",
           "zerolinewidth": 2
          }
         }
        },
        "title": {
         "text": "Transformer"
        },
        "width": 1000,
        "xaxis": {
         "title": {
          "text": "Time Index"
         }
        },
        "yaxis": {
         "title": {
          "text": "Energy Consumption (MW)"
         }
        }
       }
      }
     },
     "metadata": {},
     "output_type": "display_data"
    },
    {
     "name": "stdout",
     "output_type": "stream",
     "text": [
      "CPU times: user 4min 24s, sys: 33.2 s, total: 4min 57s\n",
      "Wall time: 4min 46s\n"
     ]
    }
   ],
   "source": [
    "%%time\n",
    "\n",
    "import torch\n",
    "from models.tf import TF_ECF\n",
    "from utils.training_utils import set_seed, train, evaluate\n",
    "from sklearn.metrics import mean_absolute_error, root_mean_squared_error\n",
    "from utils.visualization_utils import plot_actual_vs_pred\n",
    "\n",
    "set_seed(42)\n",
    "\n",
    "tf_model = TF_ECF(input_size=X_train.shape[2])\n",
    "\n",
    "tf_model = train(\n",
    "    tf_model,\n",
    "    train_loader=train_dl,\n",
    "    val_loader=val_dl,\n",
    "    optimizer=torch.optim.Adam(tf_model.parameters(), lr=1e-3),\n",
    "    loss_fn=torch.nn.MSELoss(),\n",
    "    num_epochs=30,\n",
    "    patience=3,\n",
    "    device=device,\n",
    ")\n",
    "\n",
    "tf_y_true, tf_y_pred = evaluate(tf_model, test_dl, device)\n",
    "tf_y_true = target_scaler.inverse_transform(tf_y_true.reshape(-1, 1)).flatten()\n",
    "tf_y_pred = target_scaler.inverse_transform(tf_y_pred.reshape(-1, 1)).flatten()\n",
    "\n",
    "tf_mae = mean_absolute_error(tf_y_true, tf_y_pred)\n",
    "tf_rmse = root_mean_squared_error(tf_y_true, tf_y_pred)\n",
    "\n",
    "print(f\"[TF] Test MAE: {tf_mae:.2f}\")\n",
    "print(f\"[TF] Test RMSE: {tf_rmse:.2f}\")\n",
    "\n",
    "plot_actual_vs_pred(tf_y_true, tf_y_pred, title=\"Transformer\")\n"
   ]
  },
  {
   "cell_type": "markdown",
   "metadata": {},
   "source": [
    "**Transformer achieves most accurate forecasts.**"
   ]
  }
 ],
 "metadata": {
  "kernelspec": {
   "display_name": "ai-applications-in-industry",
   "language": "python",
   "name": "python3"
  },
  "language_info": {
   "codemirror_mode": {
    "name": "ipython",
    "version": 3
   },
   "file_extension": ".py",
   "mimetype": "text/x-python",
   "name": "python",
   "nbconvert_exporter": "python",
   "pygments_lexer": "ipython3",
   "version": "3.10.16"
  }
 },
 "nbformat": 4,
 "nbformat_minor": 2
}
